{
 "cells": [
  {
   "cell_type": "markdown",
   "metadata": {},
   "source": [
    "# Análise de Recursos Humanos - People Analytics\n",
    "\n",
    "Este projeto utiliza dados disponibilizados no [Kaggle](https://www.kaggle.com/datasets/2e87aca9cfb969c5d6e89dbba2aba6d7b5a3cb769e43608a247859512197917d) sobre \"People Analytics aplicados a RH e CRM\". O objetivo é analisar informações de funcionários, avaliações sobre o ambiente de trabalho e outros dados relevantes para identificar perfis de colaboradores propensos a deixar a empresa.\n",
    "\n",
    "Será empregada a metodologia CRISP-DM, e um modelo preditivo será desenvolvido para identificar os grupos mais propensos ao desligamento, oferecendo insights e sugerindo soluções para os problemas identificados. O foco é reduzir a saída de colaboradores e aprimorar a retenção de talentos.\n",
    "\n",
    "## Contexto do problema\n",
    "\n",
    "A _RetaiX_, com uma equipe de aproximadamente **4000 funcionários**, enfrenta uma alta **rotatividade anual de cerca de 15%**. Essa taxa de saída, seja por vontade própria ou demissão, é considerada prejudicial pela gestão, devido a:\n",
    "\n",
    "- Impacto negativo nos prazos, afetando a reputação da empresa perante consumidores e parceiros;\n",
    "- Necessidade de manter um departamento significativo para recrutamento;\n",
    "- Requerimento de treinamento e período de adaptação para os novos funcionários.\n",
    "\n",
    "## Demanda do negócio\n",
    "\n",
    "- Analisar os dados para identificar padrões de comportamento dos funcionários (obter personas);\n",
    "- Identificar as variáveis que mais influenciam na alta rotatividade dos funcionários;\n",
    "- Calcular a probabilidade de um funcionário deixar a empresa e identificar as variáveis que mais contribuem para esse aumento;\n",
    "- Elaborar um relatório com as conclusões para que o gestor de RH possa tomar medidas para reduzir a rotatividade.\n",
    "\n",
    "## Compreensão dos dados\n",
    "\n",
    "Os dados disponíveis incluem quatro arquivos em formato _CSV_ e um arquivo _Excel_ com o dicionário de dados. Para o projeto de análise de recursos humanos (People Analytics), serão utilizados três arquivos que refletem os dados dos funcionários, suas percepções sobre o trabalho e seu impacto em suas vidas, além da avaliação de gestores. Esses dados foram extraídos do dataset publicado no [Kaggle](https://www.kaggle.com/datasets/2e87aca9cfb969c5d6e89dbba2aba6d7b5a3cb769e43608a247859512197917d) sob o título \"People Analytics aplicados a RH e CRM\".\n",
    "\n",
    "## Dicionário de dados\n",
    "\n",
    "| Variáveis | Descrição | Domínios |\n",
    "|------------------------------|------------------------------|------------------------------|\n",
    "| Idade                        | Idade do funcionário | |\n",
    "| Rotatividade                 | Se o funcionário deixou a empresa no ano anterior ou não | |\n",
    "| ViagensDeNegocio             | Com que frequência os funcionários viajaram a negócios no último ano | |\n",
    "| Departamento                 | Departamento na empresa | |\n",
    "| DistanciaDeCasa              | Distância de casa em quilômetros | |\n",
    "| Educacao                     | Nível de Educação | 1 'Abaixo do Ensino Superior'<br>2 'Ensino Superior Incompleto'<br>3 'Bacharel'<br>4 'Mestre'<br>5 'Doutor' |\n",
    "| CampoDeEducacao              | Campo de educação | |\n",
    "| ContagemDeEmpregados         | Contagem de funcionários | |\n",
    "| IDDoEmpregado                | Número/ID do funcionário | |\n",
    "| SatisfacaoComAmbiente        | Nível de Satisfação com o Ambiente de Trabalho | 1 'Baixo'<br>2 'Médio'<br>3 'Alto'<br>4 'Muito Alto' |\n",
    "| Genero                       | Gênero do funcionário | |\n",
    "| EnvolvimentoNoTrabalho       | Nível de Envolvimento no Trabalho | 1 'Baixo'<br>2 'Médio'<br>3 'Alto'<br>4 'Muito Alto' |\n",
    "|                   | Nível do cargo na empresa em uma escala de 1 a 5 | |\n",
    "|                   | Nome da função na empresa | |\n",
    "| SatisfacaoNoTrabalho         | Nível de Satisfação no Trabalho | 1 'Baixo'<br>2 'Médio'<br>3 'Alto'<br>4 'Muito Alto' |\n",
    "| EstadoCivil                  | Estado civil do funcionário | |\n",
    "| RendaMensal                  | Renda mensal em rúpias por mês | |\n",
    "| NumeroDeEmpresas             | Número total de empresas pelas quais o funcionário passou | |\n",
    "| MaiorDe18                    | Se o funcionário é maior de 18 anos ou não | |\n",
    "| AumentoPercentualSalario     | Percentual de aumento salarial no último ano | |\n",
    "| AvaliacaoDeDesempenho        | Avaliação de desempenho do último ano | 1 'Baixo'<br>2 'Bom'<br>3 'Excelente'<br>4 'Excepcional' |\n",
    "| HorasPadrao                  | Horas padrão de trabalho para o funcionário | |\n",
    "| NivelDeOpcaoDeCompraDeAcoes  | Nível de opção de ações do funcionário | |\n",
    "| TotalDeAnosTrabalhados       | Número total de anos que o funcionário trabalhou até agora | |\n",
    "| TreinamentosNoUltimoAno      | Número de vezes que treinamentos foram realizados para este funcionário no último ano | |\n",
    "| EquilibrioTrabalhoVida       | Nível de equilíbrio entre trabalho e vida pessoal   | 1 'Ruim'<br>2 'Bom'<br>3 'Melhor'<br>4 'Ótimo' |\n",
    "| AnosNaEmpresa                | Número total de anos que o funcionário passou na empresa | |\n",
    "| AnosDesdeUltimaPromocao      | Número de anos desde a última promoção | |\n",
    "| AnosComAtualGestor           | Número de anos sob o gerente atual | |\n",
    "\n",
    "## Sumário\n",
    "\n",
    "1. **Importação de bibliotecas**\n",
    "2. **Carregamento das bases**\n",
    "3. **Análise dos dataframes**\n",
    "4. **Análise dos dados**\n",
    "   - 4.1. Limpeza e pré-processamento dos dados\n",
    "     - 4.1.1. Análise de registros duplicados\n",
    "     - 4.1.2. Análise de valores nulos\n",
    "   - 4.2. Análise das medidas estatísticas dos dados\n",
    "   - 4.3. Análise exploratória dos dados\n",
    "     - 4.3.1. Taxa de rotatividade\n",
    "     - 4.3.2. Distribuição de idade e taxa de rotatividade por faixa etária\n",
    "     - 4.3.3. Percentual de funcionários por gênero e taxa de rotatividade\n",
    "     - 4.3.4. Quantidade de funcionários por função e taxa de rotatividade\n",
    "     - 4.3.5. Distribuição de renda mensal e taxa de rotatividade\n",
    "     - 4.3.6. Distância de casa (Km) e taxa de rotatividade\n",
    "     - 4.3.7. Taxa de rotatividade e anos de empresa\n",
    "     - 4.3.8. Avaliação de equilíbrio trabalho/vida e taxa de rotatividade\n",
    "     - 4.3.9. Nível de envolvimento no trabalho e taxa de rotatividade\n",
    "     - 4.3.10. Taxa de rotatividade e satisfação no trabalho\n",
    "5. **Preparação dos dados**\n",
    "   - 5.1. Enconding (codificação das variáveis)\n",
    "   - 5.2. Redução de dimensionalidade\n",
    "6. **Modelagem do modelo**\n",
    "   - 6.1. Clusterização\n",
    "     - 6.1.1. Método para escolha do número de clusters - Silhueta\n",
    "     - 6.1.2. Método para escolha do número de clusters - Cotovelo\n",
    "     - 6.1.3. Método para escolha do número de clusters - Mistura Gaussiana\n",
    "   - 6.2. Treinamento dos modelos de clusterização\n",
    "   - 6.3. Visualização e definição de clusters a serem usados\n",
    "7. **Análise dos clusters gerados x variáveis**\n",
    "   - 7.1. Taxa de rotatividade por CLUSTER\n",
    "   - 7.2. Percentual de rotatividade das variáveis por cluster\n",
    "\n",
    "<br>\n",
    "\n",
    "---\n",
    "\n",
    "<br>"
   ]
  },
  {
   "cell_type": "markdown",
   "metadata": {},
   "source": [
    "## 1. Importação de bibliotecas"
   ]
  },
  {
   "cell_type": "code",
   "execution_count": null,
   "metadata": {},
   "outputs": [],
   "source": [
    "# Importação de pacotes e definição de parâmetros globais\n",
    "\n",
    "import pandas as pd\n",
    "import numpy as np \n",
    "import matplotlib.pyplot as plt\n",
    "import seaborn as sns\n",
    "import warnings\n",
    "import gc # Garbage Collector para gerenciamento de memória\n",
    "import funcoes as fn # Módulo contendo funções customizadas\n",
    "\n",
    "from sklearn.impute import SimpleImputer\n",
    "from sklearn.compose import ColumnTransformer\n",
    "from sklearn.pipeline import Pipeline\n",
    "from sklearn.preprocessing import RobustScaler, OneHotEncoder\n",
    "from sklearn.decomposition import PCA\n",
    "\n",
    "from sklearn.cluster import KMeans\n",
    "from sklearn.metrics import silhouette_score\n",
    "from sklearn.mixture import GaussianMixture\n",
    "\n",
    "# Configurações para exibição de dados no Jupyter Notebook\n",
    "\n",
    "# Configurar opção para exibir todas as linhas do Dataframe\n",
    "pd.set_option('display.max_rows', None)\n",
    "\n",
    "# Configurar para exibir o conteúdo completo das colunas\n",
    "pd.set_option('display.max_colwidth', None)\n",
    "\n",
    "# Configurar a supressão de mensagens de aviso durante a execução\n",
    "warnings.filterwarnings('ignore')\n",
    "\n",
    "# Configurar estilo dos gráficos do seaborn\n",
    "sns.set_style('whitegrid')\n",
    "\n",
    "# Definição da paleta de cores a ser usada nos gráficos\n",
    "palette = sns.color_palette(['#66c2a5', '#fc8d62', '#8da0cb', '#e78ac3', '#a6d854',\n",
    "                            '#ffd92f', '#64B5F6', '#E57373', '#e5c494', '#b3b3b3', '#06B6D4', '#8D6E63'])"
   ]
  },
  {
   "cell_type": "markdown",
   "metadata": {},
   "source": [
    "## 2. Carregamento das bases"
   ]
  },
  {
   "cell_type": "code",
   "execution_count": null,
   "metadata": {},
   "outputs": [],
   "source": [
    "# Efetuando a limpeza da memória antes do carregamento dos dados\n",
    "print(f'\\nQuantidade de objetos removidos da memória: {gc.collect()}')"
   ]
  },
  {
   "cell_type": "code",
   "execution_count": null,
   "metadata": {},
   "outputs": [],
   "source": [
    "# Criando um dataframe a partir do arquivo tb_funcionarios.csv\n",
    "df_funcionarios = pd.read_csv('dados/tb_funcionarios.csv', sep=',')\n",
    "print('\\nDATAFRAME: df_funcionarios')\n",
    "df_funcionarios.head()"
   ]
  },
  {
   "cell_type": "code",
   "execution_count": null,
   "metadata": {},
   "outputs": [],
   "source": [
    "# Criando um dataframe a partir do arquivo tb_pesquisa_funcionarios.csv\n",
    "df_pesquisa_funcionarios = pd.read_csv('dados/tb_pesquisa_funcionarios.csv', sep=',')\n",
    "print('\\nDATAFRAME: df_pesquisa_funcionarios')\n",
    "df_pesquisa_funcionarios.head()"
   ]
  },
  {
   "cell_type": "code",
   "execution_count": null,
   "metadata": {},
   "outputs": [],
   "source": [
    "# Criando um dataframe a partir do arquivo tb_pesquisa_gestores.csv\n",
    "df_pesquisa_gestores = pd.read_csv('dados/tb_pesquisa_gestores.csv', sep=',')\n",
    "print('\\nDATAFRAME: df_pesquisa_gestores')\n",
    "df_pesquisa_gestores.head()"
   ]
  },
  {
   "cell_type": "markdown",
   "metadata": {},
   "source": [
    "## 3. Análise dos dataframes"
   ]
  },
  {
   "cell_type": "code",
   "execution_count": null,
   "metadata": {},
   "outputs": [],
   "source": [
    "# Exibindo a quantidade de linhas e colunas dos dataframes\n",
    "\n",
    "# Criação de um dicionário com os dataframes e seus respectivos nomes\n",
    "dfs = {\n",
    "    'df_funcionarios': df_funcionarios,\n",
    "    'df_pesquisa_funcionarios': df_pesquisa_funcionarios,\n",
    "    'df_pesquisa_gestores': df_pesquisa_gestores\n",
    "}\n",
    "\n",
    "print(f'\\nVOLUMETRIA')\n",
    "\n",
    "# Iteração sobre o dicionário para exibir o nome e as dimensões dos dataframes\n",
    "for nome, df in dfs.items():\n",
    "    print(f'\\n{nome}')\n",
    "    print(f'-'*45)\n",
    "    print(f'Quantidade de linhas (registros):  {df.shape[0]}')\n",
    "    print(f'Quantidade de colunas (variáveis): {df.shape[1]}')"
   ]
  },
  {
   "cell_type": "code",
   "execution_count": null,
   "metadata": {},
   "outputs": [],
   "source": [
    "# Unindo df_funcionarios com df_pesquisa_funcionarios\n",
    "df_merged = pd.merge(df_funcionarios, df_pesquisa_funcionarios, on='IDDoEmpregado', how='left')\n",
    "\n",
    "# Unindo o resultado com df_pesquisa_gestores\n",
    "df = pd.merge(df_merged, df_pesquisa_gestores, on='IDDoEmpregado', how='left')\n",
    "\n",
    "# Exibindo o dataframe final resultante da junção\n",
    "df.head()"
   ]
  },
  {
   "cell_type": "code",
   "execution_count": null,
   "metadata": {},
   "outputs": [],
   "source": [
    "# Exibindo os metadados do dataframe unificado\n",
    "\n",
    "fn.gerar_metadados(df)"
   ]
  },
  {
   "cell_type": "code",
   "execution_count": null,
   "metadata": {},
   "outputs": [],
   "source": [
    "# Exibindo a quantidade de linhas e colunas do dataframe\n",
    "\n",
    "print(f'\\nVOLUMETRIA')\n",
    "print(f'\\nQuantidade de linhas  (registros): {df.shape[0]}')\n",
    "print(f'Quantidade de colunas (variáveis): {df.shape[1]}')"
   ]
  },
  {
   "cell_type": "code",
   "execution_count": null,
   "metadata": {},
   "outputs": [],
   "source": [
    "df.head()"
   ]
  },
  {
   "cell_type": "markdown",
   "metadata": {},
   "source": [
    "Os dataframes `df_funcionarios`, `df_pesquisa_funcionarios` e `df_pesquisa_gestores` contêm 4410 registros cada, com um número variável de colunas. Observou-se que os dataframes **df_pesquisa_funcionarios** e **df_pesquisa_gestores** complementam o dataframe **df_funcionarios**. Para a análise dos dados e a criação de um modelo preditivo de clusterização, foi realizado um 'join' entre os três dataframes, resultando em um único **dataframe** com **4410 linhas** e **29 colunas** (variáveis)."
   ]
  },
  {
   "cell_type": "markdown",
   "metadata": {},
   "source": [
    "## 4. Análise dos dados"
   ]
  },
  {
   "cell_type": "markdown",
   "metadata": {},
   "source": [
    "### 4.1. Limpeza e pré-processamento dos dados"
   ]
  },
  {
   "cell_type": "code",
   "execution_count": null,
   "metadata": {},
   "outputs": [],
   "source": [
    "# Gerando uma cópia dos dados para execução da análise\n",
    "\n",
    "df_analise = df.copy()"
   ]
  },
  {
   "cell_type": "markdown",
   "metadata": {},
   "source": [
    "#### 4.1.1. Análise de registros duplicados"
   ]
  },
  {
   "cell_type": "code",
   "execution_count": null,
   "metadata": {},
   "outputs": [],
   "source": [
    "# Exibindo a quantidade de registros duplicados\n",
    "\n",
    "df_analise.duplicated(keep='first').value_counts(\n",
    ").to_frame().rename(columns={'contagem': 'Quantidade'})"
   ]
  },
  {
   "cell_type": "markdown",
   "metadata": {},
   "source": [
    "Nenhum registro duplicado foi identificado na análise. É possível que a maneira como os dados foram coletados tenha prevenido essa situação ou que os dados já tenham sido tratados anteriormente"
   ]
  },
  {
   "cell_type": "markdown",
   "metadata": {},
   "source": [
    "#### 4.1.2. Análise de valores nulos"
   ]
  },
  {
   "cell_type": "code",
   "execution_count": null,
   "metadata": {},
   "outputs": [],
   "source": [
    "# Exibindo gráfico de valores nulos\n",
    "\n",
    "fn.grafico_bar_valores_nulos(df_analise)"
   ]
  },
  {
   "cell_type": "code",
   "execution_count": null,
   "metadata": {},
   "outputs": [],
   "source": [
    "# Lista das variáveis com valores nulos\n",
    "lista = [col for col in df_analise.columns if df_analise[col].isnull().any()]\n",
    "\n",
    "# Preenchendo com a 'moda' as variáveis com valores nulos\n",
    "for col in lista:\n",
    "    print(f'Variável: {col}')\n",
    "    moda = df_analise[col].mode()[0]\n",
    "    df_analise.loc[df_analise[col].isnull(), col] = moda"
   ]
  },
  {
   "cell_type": "markdown",
   "metadata": {},
   "source": [
    "Foram identificadas cinco variáveis categóricas numéricas com registros nulos, que foram preenchidos com os valores da **moda**."
   ]
  },
  {
   "cell_type": "code",
   "execution_count": null,
   "metadata": {},
   "outputs": [],
   "source": [
    "fn.gerar_metadados(df_analise)"
   ]
  },
  {
   "cell_type": "markdown",
   "metadata": {},
   "source": [
    "### 4.2. Análise das medidas estatísticas dos dados"
   ]
  },
  {
   "cell_type": "code",
   "execution_count": null,
   "metadata": {},
   "outputs": [],
   "source": [
    "# Estatística descritiva das variáveis numéricas\n",
    "\n",
    "# Obtém as colunas do dataframe que são numéricas\n",
    "cols = df_analise.select_dtypes(include='number').columns\n",
    "\n",
    "# Gera a estatística descritiva e transpõe o resultado\n",
    "df_analise[cols].describe().T"
   ]
  },
  {
   "cell_type": "code",
   "execution_count": null,
   "metadata": {},
   "outputs": [],
   "source": [
    "# Estatística descritiva das variáveis categóricas\n",
    "\n",
    "# Obtém as colunas do dataframe que são categóricas\n",
    "cols = df_analise.select_dtypes(include=['object', 'category']).columns\n",
    "\n",
    "# Gera a estatística descritiva e transpõe o resultado\n",
    "df_analise[cols].describe().T"
   ]
  },
  {
   "cell_type": "markdown",
   "metadata": {},
   "source": [
    "### 4.3. Análise exploratória dos dados"
   ]
  },
  {
   "cell_type": "markdown",
   "metadata": {},
   "source": [
    "#### 4.3.1. Taxa de rotatividade"
   ]
  },
  {
   "cell_type": "code",
   "execution_count": null,
   "metadata": {},
   "outputs": [],
   "source": [
    "# Calcular as estatísticas no DataFrame para a variável 'Rotatividade'\n",
    "df_00 = df_analise['Rotatividade'].value_counts()\n",
    "df_00_perc = df_00 / df_00.sum() * 100\n",
    "rotatividade = pd.DataFrame({'Qtde': df_00, '%': df_00_perc})\n",
    "\n",
    "# Criar gráfico de pizza\n",
    "fig, ax = plt.subplots(figsize=(6, 6))\n",
    "colors = ['dodgerblue', 'indianred']\n",
    "\n",
    "# Capturar os textos do gráfico de pizza\n",
    "wedges, texts, autotexts = ax.pie(\n",
    "    rotatividade['%'], labels=None, autopct='%0.2f%%', colors=colors, textprops={'fontsize': 15})\n",
    "\n",
    "# Alterar a cor da fonte dos rótulos de autopreenchimento para branco\n",
    "for autotext in autotexts:\n",
    "    autotext.set_color('white')\n",
    "\n",
    "# Adicionar legendas\n",
    "legendas = ['NÃO', 'SIM']\n",
    "ax.legend(legendas, loc='right', labelspacing=1.5,\n",
    "          bbox_to_anchor=(1.0, 0.1, 0.6, 0.9))\n",
    "\n",
    "# Adicionar tabela\n",
    "cell_text = rotatividade.apply(\n",
    "    lambda x: [f'{int(x[\"Qtde\"]):.0f}', f'{x[\"%\"]:.2f}'], axis=1).tolist()\n",
    "tabela = plt.table(cellText=cell_text, colLabels=[\n",
    "                   'Quantidade', '%'], loc='bottom right', bbox=(1.1, 0.05, 0.5, 0.3))\n",
    "tabela.auto_set_font_size(False)\n",
    "tabela.set_fontsize(11)\n",
    "\n",
    "# Alterar a cor da grade da tabela\n",
    "for key, cell in tabela.get_celld().items():\n",
    "    cell.set_edgecolor('lightgrey')\n",
    "\n",
    "# Ajustar layout\n",
    "plt.axis('equal')\n",
    "\n",
    "# Adicionar título\n",
    "plt.title('Rotatividade dos funcionários', fontsize=15)\n",
    "\n",
    "# Exibindo o gráfico\n",
    "plt.show()"
   ]
  },
  {
   "cell_type": "markdown",
   "metadata": {},
   "source": [
    "Observa-se que, dos 4410 funcionários, **711** (aproximadamente **16,12%**) não fazem mais parte do quadro de colaboradores, seja por pedido de demissão ou por desligamento."
   ]
  },
  {
   "cell_type": "markdown",
   "metadata": {},
   "source": [
    "#### 4.3.2. Distribuição de idade e taxa de rotatividade por faixa etária"
   ]
  },
  {
   "cell_type": "code",
   "execution_count": null,
   "metadata": {},
   "outputs": [],
   "source": [
    "# Criar o gráfico histograma\n",
    "plt.subplots(figsize=(10, 6))\n",
    "plot = sns.histplot(data=df_analise, x='Idade', bins=10,\n",
    "                    kde=False, color='dodgerblue')\n",
    "\n",
    "# Adicionando frequência sobre as barras\n",
    "for p in plot.patches:\n",
    "    plot.annotate(f'{int(p.get_height())}', (\n",
    "        p.get_x() + p.get_width() / 2., p.get_height()\n",
    "    ), ha='center', va='bottom', fontsize=10)\n",
    "\n",
    "# Adicionando linha vertical para a média\n",
    "idade_media = df_analise['Idade'].mean()\n",
    "plt.axvline(x=idade_media, color='blue', linestyle='--',\n",
    "            label=f'Média: {idade_media:.2f} anos')\n",
    "\n",
    "# Adicionando e formatando rótulos e título\n",
    "plot.set_title('Distribuição da idade\\n', fontsize=15)\n",
    "plot.set(xlabel='\\nIdade', ylabel='Frequência\\n')\n",
    "plot.tick_params(axis='both', labelsize=10)\n",
    "\n",
    "# Ajustando os rótulos do eixo x de 5 em 5 anos\n",
    "plt.xticks(range(20, 65, 5))\n",
    "\n",
    "# Formatando grade do gráfico\n",
    "plt.grid(True, which='both', linestyle='--', linewidth=0.7)\n",
    "\n",
    "# Adicionando a legenda\n",
    "plt.legend()\n",
    "\n",
    "# Exibindo o gráfico\n",
    "plt.show()"
   ]
  },
  {
   "cell_type": "markdown",
   "metadata": {},
   "source": [
    "- A maior concentração de funcionários está na faixa etária de aproximadamente 30 a 43 anos;\n",
    "- A média de idade é de cerca de **37 anos** _(36,92)_;\n",
    "- A menor concentração de funcionários está na faixa etária de aproximadamente 55 a 60 anos."
   ]
  },
  {
   "cell_type": "code",
   "execution_count": null,
   "metadata": {},
   "outputs": [],
   "source": [
    "# Converter valores de 'Rotatividade' para binário\n",
    "df_analise['RotatividadeBin'] = df_analise['Rotatividade'].map(\n",
    "    {'Sim': 1, 'Nao': 0})\n",
    "\n",
    "# Definir faixas etárias\n",
    "faixas_etarias = pd.cut(df_analise['Idade'],\n",
    "                        bins=range(18, 64, 5), right=False)\n",
    "\n",
    "# Calcular a taxa de rotatividade por faixa etária\n",
    "rotatividade_por_faixa = df_analise.groupby(\n",
    "    faixas_etarias)['RotatividadeBin'].mean()\n",
    "\n",
    "# Criar o gráfico de barras\n",
    "plt.figure(figsize=(10, 6))\n",
    "plot = sns.barplot(x=rotatividade_por_faixa.index,\n",
    "                   y=rotatividade_por_faixa.values, palette=['dodgerblue'])\n",
    "\n",
    "# Adicionar rótulos e título\n",
    "plot.set_title('Taxa de rotatividade por faixa etária\\n', fontsize=15)\n",
    "plot.set(xlabel='\\nFaixa Etária', ylabel='Taxa de Rotatividade\\n')\n",
    "plot.tick_params(axis='both', labelsize=10)\n",
    "\n",
    "# Adicionando linha horizontal para a média\n",
    "rotatividade_media = df_analise['RotatividadeBin'].mean()\n",
    "plt.axhline(rotatividade_media, color='blue', linestyle='--',\n",
    "            label=f'Média: {rotatividade_media:.2%}')\n",
    "\n",
    "# Adicionar valores sobre as barras\n",
    "for p in plot.patches:\n",
    "    plot.annotate(f'{p.get_height():.2%}', (p.get_x() + p.get_width() / 2., p.get_height()),\n",
    "                  ha='center', va='bottom', fontsize=10, color='black')\n",
    "\n",
    "# Removendo os valores do eixo y\n",
    "plot.set_yticklabels([])\n",
    "\n",
    "# Renomear rótulos do eixo x\n",
    "faixa_etaria_labels = ['18 - 22', '23 - 27', '28 - 32', '33 - 37',\n",
    "                       '38 - 42', '43 - 47', '48 - 52', '53 - 57', '58 - 60']\n",
    "plot.set_xticklabels(faixa_etaria_labels)\n",
    "\n",
    "# Formatando grade do gráfico\n",
    "plt.grid(True, which='both', linestyle='--', linewidth=0.7)\n",
    "\n",
    "# Adicionando a legenda\n",
    "plt.legend()\n",
    "\n",
    "# Exibindo o gráfico\n",
    "plt.show()"
   ]
  },
  {
   "cell_type": "markdown",
   "metadata": {},
   "source": [
    "- A _taxa média_ de rotatividade é de **16,12%** dos funcionários;\n",
    "- A faixa etária de **18 a 22 anos** apresenta a maior rotatividade, com aproximadamente **47.37%**;\n",
    "- A menor rotatividade, de aproximadamente **8,64%**, ocorre na faixa etária de **38 a 42 anos**;\n",
    "- Considerando a _taxa média_, as faixas etárias de **18 a 32** anos e **58 a 60** anos possuem as maiores taxas de rotatividade;\n",
    "- A faixa etária de **38 a 42 anos** apresenta a menor rotatividade, considerando a _taxa média_.\n"
   ]
  },
  {
   "cell_type": "markdown",
   "metadata": {},
   "source": [
    "#### 4.3.3. Percentual de funcionários por gênero e taxa de rotatividade"
   ]
  },
  {
   "cell_type": "code",
   "execution_count": null,
   "metadata": {},
   "outputs": [],
   "source": [
    "# Calcular as estatísticas no DataFrame para a variável 'Genero'\n",
    "df_01 = df_analise['Genero'].value_counts()\n",
    "df_01_perc = df_01 / df_01.sum() * 100\n",
    "funcionarios_por_genero = pd.DataFrame({'Qtde': df_01, '%': df_01_perc})\n",
    "\n",
    "# Criar gráfico de pizza\n",
    "fig, ax = plt.subplots(figsize=(6, 6))\n",
    "colors = ['dodgerblue', 'indianred']\n",
    "\n",
    "# Capturar os textos do gráfico de pizza\n",
    "wedges, texts, autotexts = ax.pie(\n",
    "    funcionarios_por_genero['%'], labels=None, autopct='%0.2f%%', colors=colors, textprops={'fontsize': 15}, startangle=90)\n",
    "\n",
    "# Alterar a cor da fonte dos rótulos de autopreenchimento para branco\n",
    "for autotext in autotexts:\n",
    "    autotext.set_color('white')\n",
    "\n",
    "# Adicionar legendas\n",
    "legendas = ['Masculino', 'Feminino']\n",
    "ax.legend(legendas, loc='right', labelspacing=1.5,\n",
    "          bbox_to_anchor=(1.0, 0.1, 0.6, 0.9))\n",
    "\n",
    "# Adicionar tabela\n",
    "cell_text = funcionarios_por_genero.apply(\n",
    "    lambda x: [f'{int(x[\"Qtde\"]):.0f}', f'{x[\"%\"]:.2f}'], axis=1).tolist()\n",
    "tabela = plt.table(cellText=cell_text, colLabels=[\n",
    "                   'Quantidade', '%'], loc='bottom right', bbox=(1.1, 0.05, 0.5, 0.3))\n",
    "tabela.auto_set_font_size(False)\n",
    "tabela.set_fontsize(11)\n",
    "\n",
    "# Alterar a cor da grade da tabela\n",
    "for key, cell in tabela.get_celld().items():\n",
    "    cell.set_edgecolor('lightgrey')\n",
    "\n",
    "# Ajustar layout\n",
    "plt.axis('equal')\n",
    "\n",
    "# Adicionar título\n",
    "plt.title('Percentual de funcionários por gênero', fontsize=15)\n",
    "\n",
    "# Exibindo o gráfico\n",
    "plt.show()"
   ]
  },
  {
   "cell_type": "markdown",
   "metadata": {},
   "source": [
    "Observa-se uma predominância de funcionários do _gênero masculino_, representando exatamente **60%**, enquanto as funcionárias do _gênero feminino_ correspondem a **40%**."
   ]
  },
  {
   "cell_type": "code",
   "execution_count": null,
   "metadata": {},
   "outputs": [],
   "source": [
    "# Calcular a taxa de rotatividade por gênero\n",
    "rotatividade_por_genero = df_analise.groupby(\n",
    "    'Genero')['RotatividadeBin'].mean()\n",
    "\n",
    "# Criar o gráfico de barras\n",
    "plt.figure(figsize=(10, 6))\n",
    "plot = sns.barplot(x=rotatividade_por_genero.index,\n",
    "                   y=rotatividade_por_genero.values, palette=['dodgerblue'])\n",
    "\n",
    "# Adicionar rótulos e título\n",
    "plot.set_title('Taxa de rotatividade por gênero\\n', fontsize=15)\n",
    "plot.set(xlabel='\\nGênero', ylabel='')\n",
    "plot.tick_params(axis='both', labelsize=10)\n",
    "\n",
    "# Adicionar valores sobre as barras\n",
    "for p in plot.patches:\n",
    "    plot.annotate(f'{p.get_height():.2%}', (p.get_x() + p.get_width() / 2., p.get_height()),\n",
    "                  ha='center', va='bottom', fontsize=10, color='black')\n",
    "\n",
    "# Removendo os valores do eixo y\n",
    "plot.set_yticklabels([])\n",
    "\n",
    "# Formatando grade do gráfico\n",
    "plt.grid(True, which='both', linestyle='--', linewidth=0.7)\n",
    "\n",
    "# Exibindo o gráfico\n",
    "plt.show()"
   ]
  },
  {
   "cell_type": "markdown",
   "metadata": {},
   "source": [
    "Apesar de a quantidade de funcionários do gênero masculino ser significativamente maior do que a de funcionárias do gênero feminino, essa diferença não se reflete na taxa de rotatividade por gênero. A taxa de rotatividade é ligeiramente diferente entre os gêneros, com **16,67%** dos colaboradores do _gênero masculino_ e **15,31%** dos colaboradores do _gênero feminino_ não fazendo mais parte da empresa."
   ]
  },
  {
   "cell_type": "markdown",
   "metadata": {},
   "source": [
    "#### 4.3.4. Quantidade de funcionários por função e taxa de rotatividade"
   ]
  },
  {
   "cell_type": "code",
   "execution_count": null,
   "metadata": {},
   "outputs": [],
   "source": [
    "# Calcular a quantidade de funcionários por função\n",
    "funcionarios_por_funcao = df_analise['Funcao'].value_counts()\n",
    "\n",
    "# Criar o gráfico de barras\n",
    "plt.figure(figsize=(10, 6))\n",
    "plot = sns.barplot(x=funcionarios_por_funcao.index,\n",
    "                   y=funcionarios_por_funcao.values, palette=['dodgerblue'])\n",
    "\n",
    "# Adicionar rótulos e título\n",
    "plot.set_title('Quantidade de funcionários por função\\n', fontsize=15)\n",
    "plot.set(xlabel='\\nFunção', ylabel='Quantidade de funcionários\\n')\n",
    "plot.tick_params(axis='both', labelsize=10)\n",
    "\n",
    "# Rotacionando os valores do eixo x\n",
    "plt.xticks(rotation=45, ha='right')\n",
    "\n",
    "# Adicionar valores sobre as barras\n",
    "for p in plot.patches:\n",
    "    plot.annotate(f'{p.get_height():.0f}', (p.get_x() + p.get_width() / 2., p.get_height()),\n",
    "                  ha='center', va='bottom', fontsize=10, color='black')\n",
    "\n",
    "# Formatando grade do gráfico\n",
    "plt.grid(True, which='both', linestyle='--', linewidth=0.7)\n",
    "\n",
    "# Exibindo o gráfico\n",
    "plt.show()"
   ]
  },
  {
   "cell_type": "markdown",
   "metadata": {},
   "source": [
    "As funções de **Executivo de Vendas**, **Cientista de Pesquisa** e **Técnico de Laboratório** concentram mais da metade do total de funcionários, aproximadamente 60% do quadro de colaboradores."
   ]
  },
  {
   "cell_type": "code",
   "execution_count": null,
   "metadata": {},
   "outputs": [],
   "source": [
    "# Calcular a taxa de rotatividade por funcao\n",
    "rotatividade_por_funcao = df_analise.groupby(\n",
    "    'Funcao')['RotatividadeBin'].mean()\n",
    "rotatividade_por_funcao = rotatividade_por_funcao.sort_values(ascending=False)\n",
    "\n",
    "# Criar o gráfico de barras\n",
    "plt.figure(figsize=(10, 6))\n",
    "plot = sns.barplot(x=rotatividade_por_funcao.index,\n",
    "                   y=rotatividade_por_funcao.values, palette=['dodgerblue'])\n",
    "\n",
    "# Adicionar rótulos e título\n",
    "plot.set_title('Taxa de rotatividade por função\\n', fontsize=15)\n",
    "plot.set(xlabel='\\nFunção', ylabel='Taxa de Rotatividade\\n')\n",
    "plot.tick_params(axis='both', labelsize=10)\n",
    "\n",
    "# Adicionando linha horizontal para a média\n",
    "rotatividade_media = df_analise['RotatividadeBin'].mean()\n",
    "plt.axhline(rotatividade_media, color='blue', linestyle='--',\n",
    "            label=f'Média: {rotatividade_media:.2%}')\n",
    "\n",
    "# Removendo os valores do eixo y\n",
    "plot.set_yticklabels([])\n",
    "\n",
    "# Rotacionando os valores do eixo x\n",
    "plt.xticks(rotation=45, ha='right')\n",
    "\n",
    "# Adicionar valores sobre as barras\n",
    "for p in plot.patches:\n",
    "    plot.annotate(f'{p.get_height():.2%}', (p.get_x() + p.get_width() / 2., p.get_height()),\n",
    "                  ha='center', va='bottom', fontsize=10, color='black')\n",
    "\n",
    "# Formatando grade do gráfico\n",
    "plt.grid(True, which='both', linestyle='--', linewidth=0.7)\n",
    "\n",
    "# Adicionando a legenda\n",
    "plt.legend()\n",
    "\n",
    "# Exibindo o gráfico\n",
    "plt.show()"
   ]
  },
  {
   "cell_type": "markdown",
   "metadata": {},
   "source": [
    "Considerando a média de rotatividade de _16,12%_, o cargo com a maior rotatividade é o de **Diretor de Pesquisa**, enquanto o de menor rotatividade é o de **Diretor de Manufatura**. Outras funções que excedem a média incluem **Cientista de Pesquisa**, **Executivo de Vendas** e **Técnico de Laboratório**, sendo este último muito próximo da média."
   ]
  },
  {
   "cell_type": "markdown",
   "metadata": {},
   "source": [
    "#### 4.3.5. Distribuição de renda mensal e taxa de rotatividade"
   ]
  },
  {
   "cell_type": "code",
   "execution_count": null,
   "metadata": {},
   "outputs": [],
   "source": [
    "# Criar o gráfico histograma\n",
    "plt.subplots(figsize=(10, 6))\n",
    "plot = sns.histplot(data=df_analise, x='RendaMensal',\n",
    "                    bins=10, kde=False, color='dodgerblue')\n",
    "\n",
    "# Adicionando frequência sobre as barras\n",
    "for p in plot.patches:\n",
    "    plot.annotate(f'{int(p.get_height())}', (\n",
    "        p.get_x() + p.get_width() / 2., p.get_height()\n",
    "    ), ha='center', va='bottom', fontsize=10)\n",
    "\n",
    "# Adicionando linha vertical para a média\n",
    "renda_media = df_analise['RendaMensal'].mean()\n",
    "plt.axvline(x=renda_media, color='blue', linestyle='--',\n",
    "            label=f'Média: ₹ {renda_media:.2f}')\n",
    "\n",
    "# Adicionando e formatando rótulos e título\n",
    "plot.set_title('Distribuição da renda mensal (₹)\\n', fontsize=15)\n",
    "plot.set(xlabel='\\nRenda Mensal', ylabel='Quantidade de funcionários\\n')\n",
    "plot.tick_params(axis='both', labelsize=10)\n",
    "\n",
    "# Ajustando os rótulos do eixo x de 3798 em 3798 rúpias\n",
    "plt.xticks(range(2018, 39999, 3798))\n",
    "\n",
    "# Rotacionando os valores do eixo x\n",
    "plt.xticks(rotation=90, ha='center')\n",
    "\n",
    "# Formatando grade do gráfico\n",
    "plt.grid(True, which='both', linestyle='--', linewidth=0.7)\n",
    "\n",
    "# Adicionando a legenda\n",
    "plt.legend()\n",
    "\n",
    "# Exibindo o gráfico\n",
    "plt.show()"
   ]
  },
  {
   "cell_type": "markdown",
   "metadata": {},
   "source": [
    "Com base na média salarial de **₹ 13.005,86**, aproximadamente **3012 colaboradores** têm uma renda mensal entre **₹ 2.000** e **₹ 13.000**. Isso corresponde a cerca de **68%** do total de funcionários."
   ]
  },
  {
   "cell_type": "code",
   "execution_count": null,
   "metadata": {},
   "outputs": [],
   "source": [
    "# Definir faixas de renda\n",
    "renda_mensal = pd.cut(df_analise['RendaMensal'],\n",
    "                      bins=10, right=False)\n",
    "\n",
    "# Calcular a taxa de rotatividade por faixa de renda\n",
    "rotatividade_por_renda = df_analise.groupby(\n",
    "    renda_mensal)['RotatividadeBin'].mean()\n",
    "\n",
    "# Criar o gráfico de barras\n",
    "plt.figure(figsize=(10, 6))\n",
    "plot = sns.barplot(x=rotatividade_por_renda.index,\n",
    "                   y=rotatividade_por_renda.values, palette=['dodgerblue'])\n",
    "\n",
    "# Adicionar rótulos e título\n",
    "plot.set_title('Taxa de rotatividade por faixa de renda mensal\\n', fontsize=15)\n",
    "plot.set(xlabel='\\nRenda Mensal', ylabel='Taxa de Rotatividade\\n')\n",
    "plot.tick_params(axis='both', labelsize=10)\n",
    "\n",
    "# Adicionando linha horizontal para a média\n",
    "rotatividade_media = df_analise['RotatividadeBin'].mean()\n",
    "plt.axhline(rotatividade_media, color='blue', linestyle='--',\n",
    "            label=f'Média: {rotatividade_media:.2%}')\n",
    "\n",
    "# Adicionar valores sobre as barras\n",
    "for p in plot.patches:\n",
    "    plot.annotate(f'{p.get_height():.2%}', (p.get_x() + p.get_width() / 2., p.get_height()),\n",
    "                  ha='center', va='bottom', fontsize=10, color='black')\n",
    "\n",
    "# Rotacionando os valores do eixo x\n",
    "plt.xticks(rotation=90, ha='center')\n",
    "\n",
    "# Removendo os valores do eixo y\n",
    "plot.set_yticklabels([])\n",
    "\n",
    "# Renomear rótulos do eixo x\n",
    "faixa_renda_labels = ['2018 - 5815', '5816 - 9613', '9614 - 13411', '13412 - 17209', '17210 - 21007',\n",
    "                      '21008 - 24805', '24806 - 28603', '28604 - 32401', '32402 - 36199', '36200 - 39998']\n",
    "plot.set_xticklabels(faixa_renda_labels)\n",
    "\n",
    "# Formatando grade do gráfico\n",
    "plt.grid(True, which='both', linestyle='--', linewidth=0.7)\n",
    "\n",
    "# Adicionando a legenda\n",
    "plt.legend()\n",
    "\n",
    "# Exibindo o gráfico\n",
    "plt.show()"
   ]
  },
  {
   "cell_type": "markdown",
   "metadata": {},
   "source": [
    "A rotatividade ocorre acima da _média de 16,12%_ em diferentes faixas de renda. Destaca-se a faixa de renda de **₹ 28.604** a **₹ 32.401**, com a maior _taxa de rotatividade de **27,78%**_. Curiosamente, aproximadamente 54 funcionários estão nessa faixa. Outro destaque vai para a faixa de **₹ 21.008** a **₹ 28.603**, com a menor _taxa de rotatividade de **10,71%**_."
   ]
  },
  {
   "cell_type": "markdown",
   "metadata": {},
   "source": [
    "#### 4.3.6. Distância de casa (Km) e taxa de rotatividade"
   ]
  },
  {
   "cell_type": "code",
   "execution_count": null,
   "metadata": {},
   "outputs": [],
   "source": [
    "# Criar o gráfico histograma\n",
    "plt.subplots(figsize=(10, 6))\n",
    "plot = sns.histplot(data=df_analise, x='DistanciaDeCasa',\n",
    "                    bins=10, kde=False, color='dodgerblue')\n",
    "\n",
    "# Adicionando frequência sobre as barras\n",
    "for p in plot.patches:\n",
    "    plot.annotate(f'{int(p.get_height())}', (\n",
    "        p.get_x() + p.get_width() / 2., p.get_height()\n",
    "    ), ha='center', va='bottom', fontsize=10)\n",
    "\n",
    "# Adicionando linha vertical para a média\n",
    "distancia_media = df_analise['DistanciaDeCasa'].mean()\n",
    "plt.axvline(x=distancia_media, color='blue', linestyle='--',\n",
    "            label=f'Média: {renda_media:.2f} km')\n",
    "\n",
    "# Adicionando e formatando rótulos e título\n",
    "plot.set_title(\n",
    "    'Distribuição de funcionários por distância de casa (Km)\\n', fontsize=15)\n",
    "plot.set(xlabel='\\nDistância de casa (Km)', ylabel='Quantidade de funcionários\\n')\n",
    "plot.tick_params(axis='both', labelsize=10)\n",
    "\n",
    "# Ajustando os rótulos do eixo x de 2 em 2 km\n",
    "plt.xticks(range(0, 31, 2))\n",
    "\n",
    "# Formatando grade do gráfico\n",
    "plt.grid(True, which='both', linestyle='--', linewidth=0.7)\n",
    "\n",
    "# Adicionando a legenda\n",
    "plt.legend()\n",
    "\n",
    "# Exibindo o gráfico\n",
    "plt.show()"
   ]
  },
  {
   "cell_type": "markdown",
   "metadata": {},
   "source": [
    "- Aproximadamente **2820 funcionários** residem a até **7 km** de distância da empresa, o que representa cerca de **64%** do total de funcionários. A distância média é de 7,01 km.\n",
    "- Apenas **186 funcionários**, aproximadamente **4,22%** do total, moram a mais de **26 km** da empresa."
   ]
  },
  {
   "cell_type": "code",
   "execution_count": null,
   "metadata": {},
   "outputs": [],
   "source": [
    "# Definir faixas de distância\n",
    "distancia_de_casa = pd.cut(df_analise['DistanciaDeCasa'],\n",
    "                           bins=range(1, 32, 3), right=False)\n",
    "\n",
    "# Calcular a taxa de rotatividade por faixa de distância\n",
    "rotatividade_por_distancia = df_analise.groupby(\n",
    "    distancia_de_casa)['RotatividadeBin'].mean()\n",
    "\n",
    "# Criar o gráfico de barras\n",
    "plt.figure(figsize=(10, 6))\n",
    "plot = sns.barplot(x=rotatividade_por_distancia.index,\n",
    "                   y=rotatividade_por_distancia.values, palette=['dodgerblue'])\n",
    "\n",
    "# Adicionar rótulos e título\n",
    "plot.set_title('Taxa de rotatividade x distância de casa (Km)\\n', fontsize=15)\n",
    "plot.set(xlabel='\\nDistância de casa (Km)', ylabel='Taxa de Rotatividade\\n')\n",
    "plot.tick_params(axis='both', labelsize=10)\n",
    "\n",
    "# Adicionando linha horizontal para a média\n",
    "rotatividade_media = df_analise['RotatividadeBin'].mean()\n",
    "plt.axhline(rotatividade_media, color='blue', linestyle='--',\n",
    "            label=f'Média: {rotatividade_media:.2%}')\n",
    "\n",
    "# Adicionando valores dentro das barras\n",
    "for p in plot.patches:\n",
    "    plot.annotate(f'{p.get_height():.2%}', (p.get_x() + p.get_width() / 2., p.get_height() / 2),\n",
    "                  ha='center', va='center', fontsize=10, color='white', )\n",
    "\n",
    "# Removendo os valores do eixo y\n",
    "plot.set_yticklabels([])\n",
    "\n",
    "# Renomear rótulos do eixo x\n",
    "faixa_renda_labels = ['1 - 3', '4 - 6', '7 - 9', '10 - 12', '13 - 15',\n",
    "                      '16 - 18', '19 - 21', '22 - 24', '25 - 27', '28 - 29']\n",
    "plot.set_xticklabels(faixa_renda_labels)\n",
    "\n",
    "# Formatando grade do gráfico\n",
    "plt.grid(True, which='both', linestyle='--', linewidth=0.7)\n",
    "\n",
    "# Adicionando a legenda\n",
    "plt.legend()\n",
    "\n",
    "# Exibindo o gráfico\n",
    "plt.show()"
   ]
  },
  {
   "cell_type": "markdown",
   "metadata": {},
   "source": [
    "- Funcionários que residem entre **25 a 27 km** do trabalho apresentam a menor taxa de rotatividade, com **9,68%**;\n",
    "- Funcionários que residem entre **10 a 12 km** do trabalho apresentam a maior taxa de rotatividade, com **20,74%**;\n",
    "- Funcionários que residem entre **10 a 21 km** do trabalho apresentam taxas de rotatividade superiores à média de _16,12%_."
   ]
  },
  {
   "cell_type": "markdown",
   "metadata": {},
   "source": [
    "#### 4.3.7. Taxa de rotatividade e anos de empresa"
   ]
  },
  {
   "cell_type": "code",
   "execution_count": null,
   "metadata": {},
   "outputs": [],
   "source": [
    "# Criar o gráfico histograma\n",
    "plt.subplots(figsize=(10, 6))\n",
    "plot = sns.histplot(data=df_analise, x='AnosNaEmpresa',\n",
    "                    bins=10, kde=False, color='dodgerblue')\n",
    "\n",
    "# Adicionando frequência sobre as barras\n",
    "for p in plot.patches:\n",
    "    plot.annotate(f'{int(p.get_height())}', (\n",
    "        p.get_x() + p.get_width() / 2., p.get_height()\n",
    "    ), ha='center', va='bottom', fontsize=10)\n",
    "\n",
    "# Adicionando linha vertical para a média\n",
    "renda_media = df_analise['AnosNaEmpresa'].mean()\n",
    "plt.axvline(x=renda_media, color='blue', linestyle='--',\n",
    "            label=f'Média: {renda_media:.2f}')\n",
    "\n",
    "# Adicionando e formatando rótulos e título\n",
    "plot.set_title(\n",
    "    'Distribuição de funcionários por anos na empresa\\n', fontsize=15)\n",
    "plot.set(xlabel='\\nAnos na empresa', ylabel='Frequência\\n')\n",
    "plot.tick_params(axis='both', labelsize=10)\n",
    "\n",
    "# Formatando grade do gráfico\n",
    "plt.grid(True, which='both', linestyle='--', linewidth=0.7)\n",
    "\n",
    "# Adicionando a legenda\n",
    "plt.legend()\n",
    "\n",
    "# Exibindo o gráfico\n",
    "plt.show()"
   ]
  },
  {
   "cell_type": "markdown",
   "metadata": {},
   "source": [
    "Aproximadamente **2826 funcionários** possuem um tempo de empresa inferior à média de _7 anos_, representando cerca de **64%** do total de colaboradores."
   ]
  },
  {
   "cell_type": "code",
   "execution_count": null,
   "metadata": {},
   "outputs": [],
   "source": [
    "# Definir faixas de anos\n",
    "anos_de_empresa = pd.cut(df_analise['AnosNaEmpresa'],\n",
    "                         bins=range(0, 50, 5), right=False)\n",
    "\n",
    "# Calcular a taxa de rotatividade por faixa de renda\n",
    "rotatividade_por_anos = df_analise.groupby(\n",
    "    anos_de_empresa)['RotatividadeBin'].mean()\n",
    "\n",
    "# Criar o gráfico de barras\n",
    "plt.figure(figsize=(10, 6))\n",
    "plot = sns.barplot(x=rotatividade_por_anos.index,\n",
    "                   y=rotatividade_por_anos.values, palette=['dodgerblue'])\n",
    "\n",
    "# Adicionar rótulos e título\n",
    "plot.set_title('Taxa de rotatividade por anos de empresa\\n', fontsize=15)\n",
    "plot.set(xlabel='\\nAnos de empresa', ylabel='Taxa de Rotatividade\\n')\n",
    "plot.tick_params(axis='both', labelsize=10)\n",
    "\n",
    "# Adicionando linha horizontal para a média\n",
    "rotatividade_media = df_analise['RotatividadeBin'].mean()\n",
    "plt.axhline(rotatividade_media, color='blue', linestyle='--',\n",
    "            label=f'Média: {rotatividade_media:.2%}')\n",
    "\n",
    "# Adicionar valores sobre as barras\n",
    "for p in plot.patches:\n",
    "    plot.annotate(f'{p.get_height():.2%}', (p.get_x() + p.get_width() / 2., p.get_height()),\n",
    "                  ha='center', va='bottom', fontsize=10, color='black')\n",
    "\n",
    "# Removendo os valores do eixo y\n",
    "plot.set_yticklabels([])\n",
    "\n",
    "# Renomear rótulos do eixo x\n",
    "faixa_anos_labels = ['0 - 4', '5 - 9', '10 - 14', '15 - 19', '20 - 24',\n",
    "                     '25 - 29', '30 - 34', '35 - 39', '40 - 45']\n",
    "plot.set_xticklabels(faixa_anos_labels)\n",
    "\n",
    "# Formatando grade do gráfico\n",
    "plt.grid(True, which='both', linestyle='--', linewidth=0.7)\n",
    "\n",
    "# Adicionando a legenda\n",
    "plt.legend()\n",
    "\n",
    "# Exibindo o gráfico\n",
    "plt.show()"
   ]
  },
  {
   "cell_type": "markdown",
   "metadata": {},
   "source": [
    "Observa-se que todos os colaboradores que atingiram o tempo máximo de empresa de 40 anos não fazem mais parte da organização. Além disso, as faixas de tempo de empresa de até 4 anos e de 30 a 34 anos apresentam taxas de rotatividade superiores à média."
   ]
  },
  {
   "cell_type": "markdown",
   "metadata": {},
   "source": [
    "#### 4.3.8. Avaliação de equilíbrio trabalho/vida e taxa de rotatividade"
   ]
  },
  {
   "cell_type": "code",
   "execution_count": null,
   "metadata": {},
   "outputs": [],
   "source": [
    "# Criar o gráfico histograma\n",
    "plt.subplots(figsize=(10, 6))\n",
    "plot = sns.histplot(data=df_analise, x='EquilibrioTrabalhoVida',\n",
    "                    bins=4, kde=False, color='dodgerblue')\n",
    "\n",
    "# Adicionando frequência sobre as barras\n",
    "for p in plot.patches:\n",
    "    plot.annotate(f'{int(p.get_height())}', (\n",
    "        p.get_x() + p.get_width() / 2., p.get_height()\n",
    "    ), ha='center', va='bottom', fontsize=10)\n",
    "\n",
    "# Adicionando linha vertical para a média\n",
    "trabalho_vida_media = df_analise['EquilibrioTrabalhoVida'].mean()\n",
    "plt.axvline(x=trabalho_vida_media, color='blue', linestyle='--',\n",
    "            label=f'Média: {trabalho_vida_media:.2f}')\n",
    "\n",
    "# Adicionando e formatando rótulos e título\n",
    "plot.set_title(\n",
    "    'Distribuição da avaliação de equilíbrio trabalho/vida\\n', fontsize=15)\n",
    "plot.set(xlabel='\\nAvaliação', ylabel='Quantidade de funcionários\\n')\n",
    "plot.tick_params(axis='both', labelsize=10)\n",
    "\n",
    "# Ajustando os rótulos do eixo x de 5 em 5 pontos\n",
    "plt.xticks(range(1, 5, 1))\n",
    "\n",
    "# Renomear rótulos do eixo x\n",
    "avaliacao_labels = ['Ruim', 'Bom', 'Melhor', 'Ótimo']\n",
    "plot.set_xticklabels(avaliacao_labels)\n",
    "\n",
    "# Formatando grade do gráfico\n",
    "plt.grid(True, which='both', linestyle='--', linewidth=0.7)\n",
    "\n",
    "# Adicionando a legenda\n",
    "plt.legend()\n",
    "\n",
    "# Exibindo o gráfico\n",
    "plt.show()"
   ]
  },
  {
   "cell_type": "markdown",
   "metadata": {},
   "source": [
    "A avaliação de equilíbrio entre trabalho e vida pessoal é considerada _\"melhor\"_ por **2698 funcionários**, representando **61,18%** do total. Em contraste, apenas **239 funcionários**, ou **5,42%**, consideram o equilíbrio _\"ruim\"_."
   ]
  },
  {
   "cell_type": "code",
   "execution_count": null,
   "metadata": {},
   "outputs": [],
   "source": [
    "# Calcular a taxa de rotatividade por avaliação de equilíbrio trabalho/vida\n",
    "rotatividade_x_trabalho_vida = df_analise.groupby(\n",
    "    'EquilibrioTrabalhoVida')['RotatividadeBin'].mean()\n",
    "\n",
    "# Criar o gráfico de barras\n",
    "plt.figure(figsize=(10, 6))\n",
    "plot = sns.barplot(x=rotatividade_x_trabalho_vida.index,\n",
    "                   y=rotatividade_x_trabalho_vida.values, palette=['dodgerblue'])\n",
    "\n",
    "# Adicionar rótulos e título\n",
    "plot.set_title(\n",
    "    'Taxa de rotatividade x avaliação de equilíbrio trabalho/vida\\n', fontsize=15)\n",
    "plot.set(xlabel='\\nAvaliação de equilíbrio trabalho/vida',\n",
    "         ylabel='Taxa de Rotatividade\\n')\n",
    "plot.tick_params(axis='both', labelsize=10)\n",
    "\n",
    "# Adicionando linha horizontal para a média\n",
    "rotatividade_media = df_analise['RotatividadeBin'].mean()\n",
    "plt.axhline(rotatividade_media, color='blue', linestyle='--',\n",
    "            label=f'Média: {rotatividade_media:.2%}')\n",
    "\n",
    "# Adicionar valores sobre as barras\n",
    "for p in plot.patches:\n",
    "    plot.annotate(f'{p.get_height():.2%}', (p.get_x() + p.get_width() / 2., p.get_height()),\n",
    "                  ha='center', va='bottom', fontsize=10, color='black')\n",
    "\n",
    "# Removendo os valores do eixo y\n",
    "plot.set_yticklabels([])\n",
    "\n",
    "# Renomear rótulos do eixo x\n",
    "avaliacao_labels = ['Ruim', 'Bom', 'Melhor', 'Ótimo']\n",
    "plot.set_xticklabels(avaliacao_labels)\n",
    "\n",
    "# Formatando grade do gráfico\n",
    "plt.grid(True, which='both', linestyle='--', linewidth=0.7)\n",
    "\n",
    "# Adicionando a legenda\n",
    "plt.legend()\n",
    "\n",
    "# Exibindo o gráfico\n",
    "plt.show()"
   ]
  },
  {
   "cell_type": "markdown",
   "metadata": {},
   "source": [
    "- **31,38%** dos funcionários que avaliaram o equilíbrio entre trabalho e vida como **\"ruim\"** deixaram a empresa;\n",
    "- **16,78%** dos funcionários que avaliaram como **\"bom\"** e **17,84%** dos que avaliaram como **\"ótimo\"** deixaram a empresa;\n",
    "- **14,23%** dos funcionários que avaliaram o equilíbrio como **\"melhor\"** deixaram a empresa, abaixo da média de _16,12%_."
   ]
  },
  {
   "cell_type": "markdown",
   "metadata": {},
   "source": [
    "#### 4.3.9. Nível de envolvimento no trabalho e taxa de rotatividade"
   ]
  },
  {
   "cell_type": "code",
   "execution_count": null,
   "metadata": {},
   "outputs": [],
   "source": [
    "# Criar o gráfico histograma\n",
    "plt.subplots(figsize=(10, 6))\n",
    "plot = sns.histplot(data=df_analise, x='EnvolvimentoNoTrabalho',\n",
    "                    bins=4, kde=False, color='dodgerblue')\n",
    "\n",
    "# Adicionando frequência sobre as barras\n",
    "for p in plot.patches:\n",
    "    plot.annotate(f'{int(p.get_height())}', (\n",
    "        p.get_x() + p.get_width() / 2., p.get_height()\n",
    "    ), ha='center', va='bottom', fontsize=10)\n",
    "\n",
    "# Adicionando linha vertical para a média\n",
    "envolvimento_media = df_analise['EnvolvimentoNoTrabalho'].mean()\n",
    "plt.axvline(x=envolvimento_media, color='blue', linestyle='--',\n",
    "            label=f'Média: {envolvimento_media:.2f}')\n",
    "\n",
    "# Adicionando e formatando rótulos e título\n",
    "plot.set_title(\n",
    "    'Distribuição do nível de envolvimento no trabalho\\n', fontsize=15)\n",
    "plot.set(xlabel='\\nNível', ylabel='Quantidade de funcionários\\n')\n",
    "plot.tick_params(axis='both', labelsize=10)\n",
    "\n",
    "# Ajustando os rótulos do eixo x de 5 em 5 pontos\n",
    "plt.xticks(range(1, 5, 1))\n",
    "\n",
    "# Renomear rótulos do eixo x\n",
    "nivel_labels = ['Baixo', 'Médio', 'Alto', 'Muito alto']\n",
    "plot.set_xticklabels(nivel_labels)\n",
    "\n",
    "# Formatando grade do gráfico\n",
    "plt.grid(True, which='both', linestyle='--', linewidth=0.7)\n",
    "\n",
    "# Adicionando a legenda\n",
    "plt.legend()\n",
    "\n",
    "# Exibindo o gráfico\n",
    "plt.show()"
   ]
  },
  {
   "cell_type": "markdown",
   "metadata": {},
   "source": [
    "O nível de envolvimento no trabalho é considerado _\"alto\"_ por **2604 funcionários**, representando **59,05%** do total. Em contraste, apenas **249 funcionários**, ou **5,65%**, apresentaram nível de envolvimento _\"ruim\"_."
   ]
  },
  {
   "cell_type": "code",
   "execution_count": null,
   "metadata": {},
   "outputs": [],
   "source": [
    "# Calcular a taxa de rotatividade por nível de envolvimento no trabalho\n",
    "rotatividade_x_trabalho_vida = df_analise.groupby(\n",
    "    'EnvolvimentoNoTrabalho')['RotatividadeBin'].mean()\n",
    "\n",
    "# Criar o gráfico de barras\n",
    "plt.figure(figsize=(10, 6))\n",
    "plot = sns.barplot(x=rotatividade_x_trabalho_vida.index,\n",
    "                   y=rotatividade_x_trabalho_vida.values, palette=['dodgerblue'])\n",
    "\n",
    "# Adicionar rótulos e título\n",
    "plot.set_title('Taxa de rotatividade x nível de envolvimento no trabalho\\n', fontsize=15)\n",
    "plot.set(xlabel='\\nNível de envolvimento no trabalho', ylabel='Taxa de Rotatividade\\n')\n",
    "plot.tick_params(axis='both', labelsize=10)\n",
    "\n",
    "# Adicionando linha horizontal para a média\n",
    "rotatividade_media = df_analise['RotatividadeBin'].mean()\n",
    "plt.axhline(rotatividade_media, color='blue', linestyle='--',\n",
    "            label=f'Média: {rotatividade_media:.2%}')\n",
    "\n",
    "# Adicionar valores sobre as barras\n",
    "for p in plot.patches:\n",
    "    plot.annotate(f'{p.get_height():.2%}', (p.get_x() + p.get_width() / 2., p.get_height()),\n",
    "                  ha='center', va='bottom', fontsize=10, color='black')\n",
    "\n",
    "# Removendo os valores do eixo y\n",
    "plot.set_yticklabels([])\n",
    "\n",
    "# Renomear rótulos do eixo x\n",
    "nivel_labels = ['Baixo', 'Médio', 'Alto', 'Muito alto']\n",
    "plot.set_xticklabels(nivel_labels)\n",
    "\n",
    "# Formatando grade do gráfico\n",
    "plt.grid(True, which='both', linestyle='--', linewidth=0.7)\n",
    "\n",
    "# Adicionando a legenda\n",
    "plt.legend()\n",
    "\n",
    "# Exibindo o gráfico\n",
    "plt.show()"
   ]
  },
  {
   "cell_type": "markdown",
   "metadata": {},
   "source": [
    "- **21,69%** dos funcionários com nível **\"baixo\"** de envolvimento no trabalho deixaram a empresa;\n",
    "- **16,00%** dos funcionários com nível **\"médio\"** e **18,06%** com nível **\"muito alto\"** deixaram a empresa;\n",
    "- **14,23%** dos funcionários com nível **\"alto\"** de envolvimento deixaram a empresa, abaixo da média de _16,12%_."
   ]
  },
  {
   "cell_type": "markdown",
   "metadata": {},
   "source": [
    "#### 4.3.10. Taxa de rotatividade e satisfação no Trabalho"
   ]
  },
  {
   "cell_type": "code",
   "execution_count": null,
   "metadata": {},
   "outputs": [],
   "source": [
    "# Criar o gráfico histograma\n",
    "plt.subplots(figsize=(10, 6))\n",
    "plot = sns.histplot(data=df_analise, x='SatisfacaoNoTrabalho',\n",
    "                    bins=4, kde=False, color='dodgerblue')\n",
    "\n",
    "# Adicionando frequência sobre as barras\n",
    "for p in plot.patches:\n",
    "    plot.annotate(f'{int(p.get_height())}', (\n",
    "        p.get_x() + p.get_width() / 2., p.get_height()\n",
    "    ), ha='center', va='bottom', fontsize=10)\n",
    "\n",
    "# Adicionando linha vertical para a média\n",
    "satisfacao_media = df_analise['SatisfacaoNoTrabalho'].mean()\n",
    "plt.axvline(x=satisfacao_media, color='blue', linestyle='--',\n",
    "            label=f'Média: {satisfacao_media:.2f}')\n",
    "\n",
    "# Adicionando e formatando rótulos e título\n",
    "plot.set_title(\n",
    "    'Distribuição do nível de satisfação no trabalho\\n', fontsize=15)\n",
    "plot.set(xlabel='\\nNível', ylabel='Quantidade de funcionários\\n')\n",
    "plot.tick_params(axis='both', labelsize=10)\n",
    "\n",
    "# Ajustando os rótulos do eixo x de 5 em 5 pontos\n",
    "plt.xticks(range(1, 5, 1))\n",
    "\n",
    "# Renomear rótulos do eixo x\n",
    "nivel_labels = ['Baixo', 'Médio', 'Alto', 'Muito alto']\n",
    "plot.set_xticklabels(nivel_labels)\n",
    "\n",
    "# Formatando grade do gráfico\n",
    "plt.grid(True, which='both', linestyle='--', linewidth=0.7)\n",
    "\n",
    "# Adicionando a legenda\n",
    "plt.legend()\n",
    "\n",
    "# Exibindo o gráfico\n",
    "plt.show()"
   ]
  },
  {
   "cell_type": "markdown",
   "metadata": {},
   "source": [
    "Os níveis de satisfação **\"Alto\"** e **\"Muito Alto\"** somados representam **2710 funcionários**, ou **61,45%** do total. Em contraste, **19,50%** dos funcionários, equivalentes a **860 pessoas**, estão com o nível de satisfação **\"Baixo\"**."
   ]
  },
  {
   "cell_type": "code",
   "execution_count": null,
   "metadata": {},
   "outputs": [],
   "source": [
    "# Calcular a taxa de rotatividade por nível de envolvimento no trabalho\n",
    "rotatividade_x_trabalho_vida = df_analise.groupby(\n",
    "    'SatisfacaoNoTrabalho')['RotatividadeBin'].mean()\n",
    "\n",
    "# Criar o gráfico de barras\n",
    "plt.figure(figsize=(10, 6))\n",
    "plot = sns.barplot(x=rotatividade_x_trabalho_vida.index,\n",
    "                   y=rotatividade_x_trabalho_vida.values, palette=['dodgerblue'])\n",
    "\n",
    "# Adicionar rótulos e título\n",
    "plot.set_title('Taxa de rotatividade x nível de satisfação no trabalho\\n', fontsize=15)\n",
    "plot.set(xlabel='\\nNível de satisfação no trabalho', ylabel='Taxa de Rotatividade\\n')\n",
    "plot.tick_params(axis='both', labelsize=10)\n",
    "\n",
    "# Adicionando linha horizontal para a média\n",
    "rotatividade_media = df_analise['RotatividadeBin'].mean()\n",
    "plt.axhline(rotatividade_media, color='blue', linestyle='--',\n",
    "            label=f'Média: {rotatividade_media:.2%}')\n",
    "\n",
    "# Adicionar valores sobre as barras\n",
    "for p in plot.patches:\n",
    "    plot.annotate(f'{p.get_height():.2%}', (p.get_x() + p.get_width() / 2., p.get_height()),\n",
    "                  ha='center', va='bottom', fontsize=10, color='black')\n",
    "\n",
    "# Removendo os valores do eixo y\n",
    "plot.set_yticklabels([])\n",
    "\n",
    "# Renomear rótulos do eixo x\n",
    "nivel_labels = ['Baixo', 'Médio', 'Alto', 'Muito alto']\n",
    "plot.set_xticklabels(nivel_labels)\n",
    "\n",
    "# Formatando grade do gráfico\n",
    "plt.grid(True, which='both', linestyle='--', linewidth=0.7)\n",
    "\n",
    "# Adicionando a legenda\n",
    "plt.legend()\n",
    "\n",
    "# Exibindo o gráfico\n",
    "plt.show()"
   ]
  },
  {
   "cell_type": "markdown",
   "metadata": {},
   "source": [
    "- **22,91%** dos funcionários com nível de satisfação **\"Baixo\"** não fazem mais parte do quadro de colaboradores;\n",
    "- Funcionários com nível de satisfação **\"Médio\"** (16,43%) e **\"Alto\"** (16,55%) deixaram a empresa, com percentuais muito próximos da média de _16,12%_;\n",
    "- Apenas **11,23%** dos funcionários com nível de satisfação **\"Muito Alto\"** saíram da empresa."
   ]
  },
  {
   "cell_type": "markdown",
   "metadata": {},
   "source": [
    "## 5. Preparação dos dados"
   ]
  },
  {
   "cell_type": "markdown",
   "metadata": {},
   "source": [
    "### 5.1. Enconding (codificação das variáveis)"
   ]
  },
  {
   "cell_type": "code",
   "execution_count": null,
   "metadata": {},
   "outputs": [],
   "source": [
    "X = df.drop(columns='IDDoEmpregado')\n",
    "\n",
    "# Cria um conjunto de variáveis categóricas e numéricas\n",
    "vars_categoricas = X.select_dtypes(include='object')\n",
    "vars_numericas = X.select_dtypes(exclude='object')\n",
    "\n",
    "# Pipeline de transformação das variáveis categóricas\n",
    "pipeline_cat = Pipeline(steps=[\n",
    "    ('imputer', SimpleImputer(strategy='most_frequent')),\n",
    "    ('onehot', OneHotEncoder(drop='first'))\n",
    "])\n",
    "\n",
    "# Pipeline de transformação das variáveis numéricas\n",
    "pipeline_num = Pipeline(steps=[\n",
    "    ('imputer', SimpleImputer(strategy='median')),\n",
    "    ('scaler', RobustScaler())\n",
    "])\n",
    "\n",
    "# Criando um transformador para aplicar pipelines diferentes nas colunas\n",
    "transformador = ColumnTransformer([\n",
    "    ('cat', pipeline_cat, vars_categoricas.columns),\n",
    "    ('num', pipeline_num, vars_numericas.columns)\n",
    "])\n",
    "\n",
    "# Criando um pipeline o transformador de pré-processamento criado anteriormente\n",
    "pipeline = Pipeline(steps=[('transformador', transformador)])\n",
    "\n",
    "# Aplica o pipeline à base de dados\n",
    "X_processado = pipeline.fit_transform(X)\n",
    "\n",
    "# Obtendo os nomes das colunas após o one-hot enconding\n",
    "encoded_cat_cols = pipeline.named_steps['transformador']\\\n",
    "    .named_transformers_['cat']\\\n",
    "    .named_steps['onehot']\\\n",
    "    .get_feature_names_out(input_features=vars_categoricas.columns)\n",
    "    \n",
    "# Combinando os nomes das colunas categóricas codificadas e as colunas numéricas\n",
    "all_cols = list(encoded_cat_cols) + list(vars_numericas.columns)\n",
    "\n",
    "# Criando um  dataframe com as colunas pré-processadas e seus nomes\n",
    "df_X_processado = pd.DataFrame(X_processado, columns=all_cols)"
   ]
  },
  {
   "cell_type": "code",
   "execution_count": null,
   "metadata": {},
   "outputs": [],
   "source": [
    "df_X_processado.head()"
   ]
  },
  {
   "cell_type": "markdown",
   "metadata": {},
   "source": [
    "### 5.2. Redução de dimensionalidade"
   ]
  },
  {
   "cell_type": "code",
   "execution_count": null,
   "metadata": {},
   "outputs": [],
   "source": [
    "# Exibindo a quantidade de linhas e colunas do dataframe\n",
    "\n",
    "print(f'\\nVOLUMETRIA')\n",
    "print(f'\\nQuantidade de linhas  (registros): {df_X_processado.shape[0]}')\n",
    "print(f'Quantidade de colunas (variáveis): {df_X_processado.shape[1]}')"
   ]
  },
  {
   "cell_type": "code",
   "execution_count": null,
   "metadata": {},
   "outputs": [],
   "source": [
    "# Análise de componentes principais para redução da dimensionalidade\n",
    "\n",
    "# Seleção de componentes que mantenham 80% da variância dos dados\n",
    "pca = PCA(n_components=0.8)\n",
    "pca.fit(df_X_processado)\n",
    "df_componentes = pca.transform(df_X_processado)\n",
    "\n",
    "# Exibindo a quantidade de linhas e componentes gerados\n",
    "\n",
    "print(f'\\nVOLUMETRIA')\n",
    "print(f'\\nQuantidade de linhas:      {df_componentes.shape[0]}')\n",
    "print(f'Quantidade de componentes: {df_componentes.shape[1]}')"
   ]
  },
  {
   "cell_type": "markdown",
   "metadata": {},
   "source": [
    "## 6. Modelagem do modelo"
   ]
  },
  {
   "cell_type": "markdown",
   "metadata": {},
   "source": [
    "### 6.1. Clusterização"
   ]
  },
  {
   "cell_type": "markdown",
   "metadata": {},
   "source": [
    "#### 6.1.1. Método para escolha do número de clusters - Silhueta"
   ]
  },
  {
   "cell_type": "code",
   "execution_count": null,
   "metadata": {},
   "outputs": [],
   "source": [
    "# Lista para armazenar as pontuações para diferentes números de clusters\n",
    "silhouette_scores = []\n",
    "\n",
    "# Loop para testar diferentes números de clusters (de 2 a 9)\n",
    "for n_clusters in range(2, 10):\n",
    "    # Inicialização do modelo KMeans com o número de clusters atual\n",
    "    kmeans = KMeans(n_clusters=n_clusters, random_state=0, n_init='auto')\n",
    "    kmeans.fit_predict(df_componentes)\n",
    "    # Calcula a pontuação de silhueta para os dados e os rótulos de cluster\n",
    "    score = silhouette_score(df_componentes, kmeans.labels_)\n",
    "    silhouette_scores.append(score)\n",
    "\n",
    "# Encontra a pontuação de silhueta máxima\n",
    "max_score = max(silhouette_scores)\n",
    "# Encontra o número de clusters correspondente à pontuação de silhueta máxima\n",
    "best_n_clusters = range(2, 10)[silhouette_scores.index(max_score)]\n",
    "\n",
    "# Criar o gráfico de linhas\n",
    "plt.figure(figsize=(10,6))\n",
    "plt.plot(range(2, 10), silhouette_scores, marker='o', linestyle='--', color='dodgerblue')\n",
    "\n",
    "# Adiciona uma linha vertical na posição do melhor número de clusters\n",
    "plt.axvline(x=best_n_clusters, color='indianred', linestyle='-', label=f'Máximo em n = {best_n_clusters}')\n",
    "\n",
    "# Adiciona título e rótulos aos eixos do gráfico\n",
    "plt.title('Método da Silhueta\\n', fontsize=15)\n",
    "plt.xlabel('\\nNúmero de Clusters', fontsize=10)\n",
    "plt.ylabel('Pontuação\\n', fontsize=10)\n",
    "\n",
    "# Adicionando a legenda\n",
    "plt.legend()\n",
    "\n",
    "# Exibindo o gráfico\n",
    "plt.show()\n",
    "\n",
    "print(f'Melhor número de cluster pelo método da silhueta: {best_n_clusters}')\n",
    "print(f'\\nPontuação máxima obtida entre valores de -1 a 1:  {max_score:.3f}')\n"
   ]
  },
  {
   "cell_type": "markdown",
   "metadata": {},
   "source": [
    "#### 6.1.2. Método para escolha do número de clusters - Cotovelo"
   ]
  },
  {
   "cell_type": "code",
   "execution_count": null,
   "metadata": {},
   "outputs": [],
   "source": [
    "# Lista para armazenar os valores para diferentes números de clusters\n",
    "# WCSS (Within-Cluster Sum of Squares - Soma de quadrados dentro do cluster) \n",
    "wcss = []\n",
    "\n",
    "# Loop para testar diferentes números de clusters (de 2 a 9)\n",
    "for n_clusters in range(2, 10):\n",
    "    # Inicialização do modelo KMeans com o número de clusters atual\n",
    "    kmeans = KMeans(n_clusters=n_clusters, random_state=0, n_init='auto')\n",
    "    kmeans.fit_predict(df_componentes)\n",
    "    # Adiciona a 'soma das distâncias ao quadrado dentro dos clusters' à lista de WCSS\n",
    "    wcss.append(kmeans.inertia_)\n",
    "\n",
    "# Coordenadas dos pontos extremos da linha de referência\n",
    "x1, x2 = 2, 9\n",
    "y1, y2 = wcss[0], wcss[-1]\n",
    "\n",
    "# Distâncias dos pontos à linha reta\n",
    "distances = []\n",
    "for i in range(len(wcss)):\n",
    "    x0 = i + 2\n",
    "    y0 = wcss[i]\n",
    "    numerator = abs((y2 - y1) * x0 - (x2 - x1) * y0 + x2 * y1 - y2 * x1)\n",
    "    denominator = np.sqrt((y2 - y1)**2 + (x2 - x1)**2)\n",
    "    distances.append(numerator/denominator)\n",
    "# Encontra o número de clusters de maior distância da reta de referência (perpendicular)\n",
    "best_n_clusters = distances.index(max(distances)) + 2\n",
    "\n",
    "# Criar o gráfico de linhas\n",
    "plt.figure(figsize=(10, 6))\n",
    "plt.plot(range(2, 10), wcss, marker='o', linestyle='--', color='dodgerblue')\n",
    "\n",
    "# Plota a linha de referência (perpendicular)\n",
    "plt.plot([x1, x2], [y1, y2], linestyle=':', color='grey')\n",
    "\n",
    "# Adiciona uma linha vertical na posição do melhor número de clusters\n",
    "plt.axvline(x=best_n_clusters, color='indianred', linestyle='-', label=f'Máximo em n = {best_n_clusters}')\n",
    "\n",
    "# Adiciona título e rótulos aos eixos do gráfico\n",
    "plt.title('Método do Cotovelo\\n', fontsize=15)\n",
    "plt.xlabel('\\nNúmero de Clusters', fontsize=10)\n",
    "plt.ylabel('Pontuação\\n', fontsize=10)\n",
    "\n",
    "# Adicionando a legenda\n",
    "plt.legend()\n",
    "\n",
    "# Exibindo o gráfico\n",
    "plt.show()\n",
    "\n",
    "print(f'Melhor número de cluster pelo método do cotovelo: {best_n_clusters}')\n"
   ]
  },
  {
   "cell_type": "markdown",
   "metadata": {},
   "source": [
    "#### 6.1.3. Método para escolha do número de clusters - Mistura Gaussiana"
   ]
  },
  {
   "cell_type": "code",
   "execution_count": null,
   "metadata": {},
   "outputs": [],
   "source": [
    "# Listas para armazenar os valores de AIC e BIC\n",
    "aic_scores = []\n",
    "bic_scores = []\n",
    "\n",
    "# Número de cluster a serem testados\n",
    "n_cluster = range(2, 10)\n",
    "\n",
    "# Loop para testar diferentes números de clusters (de 2 a 9)\n",
    "for n in n_cluster:\n",
    "    # Inicialização do modelo GMM com o número de clusters atual\n",
    "    gmm = GaussianMixture(n_components=n, random_state=0, covariance_type='full')\n",
    "    gmm.fit(df_componentes)\n",
    "    # Adiciona os valores de AIC e BIC às listas correspondentes\n",
    "    aic_scores.append(gmm.aic(df_componentes))\n",
    "    bic_scores.append(gmm.bic(df_componentes))  \n",
    "\n",
    "# Encontrar o número de clusters com o menor AIC e BIC\n",
    "best_n_aic = n_cluster[aic_scores.index(min(aic_scores))]\n",
    "best_n_bic = n_cluster[bic_scores.index(min(bic_scores))]\n",
    "\n",
    "# Criar o gráfico de linhas\n",
    "plt.figure(figsize=(10, 6))\n",
    "plt.plot(n_cluster, aic_scores, marker='o', linestyle='--', color='indianred', label='AIC')\n",
    "plt.plot(n_cluster, bic_scores, marker='o', linestyle='--', color='dodgerblue', label='BIC')\n",
    "\n",
    "# Adicionar linhas verticais nos melhores números de clusters para AIC e BIC\n",
    "plt.axvline(x=best_n_aic, color='indianred', linestyle='-', label=f'Melhor AIC: {best_n_aic}')\n",
    "plt.axvline(x=best_n_bic, color='dodgerblue', linestyle='-', label=f'Melhor BIC: {best_n_bic}')\n",
    "\n",
    "# Adiciona título e rótulos aos eixos do gráfico\n",
    "plt.title('Critério de Informação Akaike (AIC) e Bayesiana (BIC)\\n', fontsize=15)\n",
    "plt.xlabel('\\nNúmero de Clusters', fontsize=10)\n",
    "plt.ylabel('Pontuação\\n', fontsize=10)\n",
    "\n",
    "# Adicionando a legenda\n",
    "plt.legend()\n",
    "\n",
    "# Exibindo o gráfico\n",
    "plt.show()\n",
    "\n",
    "print(f'Melhor número de cluster pelo AIC: {best_n_aic}')\n",
    "print(f'Pontuação mínima obtida: {min(aic_scores):.0f}')\n",
    "print(f'\\nMelhor número de cluster pelo BIC: {best_n_bic}')\n",
    "print(f'Pontuação mínima obtida: {min(bic_scores):.0f}')"
   ]
  },
  {
   "cell_type": "markdown",
   "metadata": {},
   "source": [
    "### 6.2. Treinamento dos modelos de clusterização"
   ]
  },
  {
   "cell_type": "code",
   "execution_count": null,
   "metadata": {},
   "outputs": [],
   "source": [
    "# Listas para armazenar os modelos KMeans\n",
    "kmeans_models=[]\n",
    "\n",
    "# Loop para treinar KMeans com 3 e 4 clusters\n",
    "for n in range(3, 5):\n",
    "    # Inicializa e treina o modelo KMeans\n",
    "    kmeans = KMeans(n_clusters=n, n_init='auto', random_state=0)\n",
    "    kmeans.fit(df_componentes)\n",
    "    \n",
    "    # Armazena o modelo treinado\n",
    "    kmeans_models.append(kmeans)\n",
    "    # Obter os centróides dos clusters\n",
    "    #centroids = kmeans.cluster_centers_\n",
    "    # Obter os rótulos dos clusters\n",
    "    labels = kmeans.labels_\n",
    "    # Aplicação dos rótulos ao DataFrame original\n",
    "    df[f'Cluster_{n}'] = labels\n",
    "\n",
    "    print(f'Rótulos dos clusters para {n} clusters: {np.unique(labels)}')"
   ]
  },
  {
   "cell_type": "code",
   "execution_count": null,
   "metadata": {},
   "outputs": [],
   "source": [
    "# Listas para armazenar os modelos de Mistura Gaussiana (GMM)\n",
    "gmm_models=[]\n",
    "\n",
    "# Loop para treinar GMM com 7 e 9 clusters\n",
    "for n in range(7, 10):\n",
    "    if n==7 or n==9:\n",
    "        # Inicializa e treina o modelo GMM\n",
    "        gmm = GaussianMixture(n_components=n, random_state=0, covariance_type='full')\n",
    "        gmm.fit(df_componentes)\n",
    "        \n",
    "        # Armazena o modelo treinado\n",
    "        gmm_models.append(kmeans)\n",
    "        # Obter os rótulos dos clusters\n",
    "        labels = gmm.predict(df_componentes)\n",
    "        # Aplicação dos rótulos ao DataFrame original\n",
    "        df[f'Cluster_{n}'] = labels\n",
    "\n",
    "        print(f'Rótulos dos clusters para {n} clusters: {np.unique(labels)}')"
   ]
  },
  {
   "cell_type": "code",
   "execution_count": null,
   "metadata": {},
   "outputs": [],
   "source": [
    "df.head()"
   ]
  },
  {
   "cell_type": "markdown",
   "metadata": {},
   "source": [
    "### 6.3. Visualização e definição de clusters a serem usados"
   ]
  },
  {
   "cell_type": "code",
   "execution_count": null,
   "metadata": {},
   "outputs": [],
   "source": [
    "# Lista com os números de clusters\n",
    "n_labels = [3, 4, 7, 9] \n",
    "# Lista com os nomes dos eixos para os subplots\n",
    "n_axes = ['ax1', 'ax2', 'ax3', 'ax4']  \n",
    "\n",
    "# Criando uma coluna 'TARGET' que indica 1 se 'Rotatividade' for 'Sim', caso contrário 0\n",
    "df['TARGET'] = (df['Rotatividade'] == 'Sim').astype(int)\n",
    "\n",
    "# Criando os subplots\n",
    "fig, ((ax1, ax2), (ax3, ax4)) = plt.subplots(2, 2, figsize=(12, 10))\n",
    "\n",
    "# Loop de iteração dos eixos e números de clusters\n",
    "for m, n in zip(n_axes, n_labels):\n",
    "    # Cria um gráfico de contagem para cada número de clusters\n",
    "    ax = sns.countplot(data=df, x=f'Cluster_{n}', hue='TARGET', ax=eval(m), palette=['dodgerblue', 'indianred'])\n",
    "    \n",
    "    # Adiciona rótulos de contagem nas barras do gráfico\n",
    "    for i in range(len(ax.containers)):\n",
    "        ax.bar_label(ax.containers[i], fontsize=10)\n",
    "    \n",
    "    # Adiciona legenda com rótulos 'Não' e 'Sim' para o 'TARGET'\n",
    "    ax.legend(labels=['Não', 'Sim'], ncol=2)\n",
    "    \n",
    "    # Adiciona o título do gráfico\n",
    "    ax.set_title(f'Rotatividade no grupo de Cluster {n}\\n')\n",
    "    \n",
    "    # Removendo os rótulos dos eixos x e y\n",
    "    ax.set(xlabel='', ylabel='')\n",
    "    \n",
    "    # Desativando a grade do gráfico\n",
    "    ax.grid(False)\n",
    "\n",
    "# Ajustando os espaçamentos dos subplots para evitar sobreposição\n",
    "plt.tight_layout()\n",
    "\n",
    "# Exibindo o gráfico\n",
    "plt.show()\n"
   ]
  },
  {
   "cell_type": "markdown",
   "metadata": {},
   "source": [
    "Após a análise detalhada dos métodos de escolha do número de clusters, avaliação das métricas geradas, considerando o volume de dados disponível e as particularidades do negócio e do problema apresentado, foi selecionada a opção por utilizar 7 clusters para a segmentação de grupos na análise de rotatividade. "
   ]
  },
  {
   "cell_type": "markdown",
   "metadata": {},
   "source": [
    "## 7. Análise dos clusters gerados x variáveis"
   ]
  },
  {
   "cell_type": "markdown",
   "metadata": {},
   "source": [
    "### 7.1. Taxa de rotatividade por CLUSTER"
   ]
  },
  {
   "cell_type": "code",
   "execution_count": null,
   "metadata": {},
   "outputs": [],
   "source": [
    "# Criar o gráfico de barras\n",
    "plt.figure(figsize=(10, 6))\n",
    "plot = sns.barplot(data=df, x='Cluster_7', y='TARGET',\n",
    "                   palette=['dodgerblue'], errorbar=None)\n",
    "\n",
    "# Adicionar rótulos e título\n",
    "plot.set_title('Taxa de rotatividade por CLUSTER\\n', fontsize=15)\n",
    "plot.set(xlabel='\\nClusters', ylabel='Taxa de Rotatividade\\n')\n",
    "plot.tick_params(axis='both', labelsize=10)\n",
    "\n",
    "# Adicionar valores sobre as barras\n",
    "for p in plot.patches:\n",
    "    plot.annotate(f'{p.get_height():.2%}', (p.get_x() + p.get_width() / 2., p.get_height()),\n",
    "                  ha='center', va='bottom', fontsize=10, color='black')\n",
    "\n",
    "# Adicionando linha horizontal para a média\n",
    "rotatividade_media = df['TARGET'].mean()\n",
    "plt.axhline(rotatividade_media, color='blue', linestyle='--',\n",
    "            label=f'Média: {rotatividade_media:.2%}')\n",
    "\n",
    "# Removendo os valores do eixo y\n",
    "plot.set_yticklabels([])\n",
    "\n",
    "# Formatando grade do gráfico\n",
    "plt.grid(True, which='both', linestyle='--', linewidth=0.7)\n",
    "\n",
    "# Adicionando a legenda\n",
    "plt.legend()\n",
    "\n",
    "# Exibindo o gráfico\n",
    "plt.show()"
   ]
  },
  {
   "cell_type": "markdown",
   "metadata": {},
   "source": [
    "Considerando a **média de 16,12%** para análise dos clusters:\n",
    "\n",
    "- Os clusters 0 e 1, apresentaram baixa rotatividade, os perfis nesses dois grupos pode apresentar características de menor propensão desligamento dos funcionários;\n",
    "- Os clusters 2, 4 e 6, apresentam taxas muito próximas à média, ou seja, suas características impactam na retenção de funcionários, sendo necessária atenção a esses grupos;\n",
    "- Os clusters 3 e 5, apresentam alta rotatividade, muito superior à média, indicando que há problemas específicos que afetam a retenção de colaboradores, sendo necessário ações prioritárias para redução de rotatividade."
   ]
  },
  {
   "cell_type": "markdown",
   "metadata": {},
   "source": [
    "### 7.2. Percentual de rotatividade das variáveis por cluster"
   ]
  },
  {
   "cell_type": "code",
   "execution_count": null,
   "metadata": {},
   "outputs": [],
   "source": [
    "def graf_countplot_a(dataframe, feature, rotation=0):\n",
    "    '''\n",
    "    Função para gerar um gráfico countplot.\n",
    "\n",
    "    :param data: DataFrame\n",
    "        DataFrame contendo os dados.\n",
    "    :param feature: str\n",
    "        Nome da variavel a ser plotada.\n",
    "    :param rotation: int, opcional\n",
    "        Grau de rotação dos valores das barras do eixo x.       \n",
    "    '''\n",
    "    # Normalizando os dados para cada feature e Cluster_7\n",
    "    df_normalizado = dataframe.groupby(\n",
    "        ['Cluster_7', feature]).size().reset_index(name='contagem')\n",
    "    df_normalizado['%'] = df_normalizado.groupby(\n",
    "        'Cluster_7')['contagem'].apply(lambda x: x / float(x.sum()) * 100).values\n",
    "\n",
    "    # Criar o gráfico de barras\n",
    "    plt.figure(figsize=(15, 6))\n",
    "    plot = sns.barplot(data=df_normalizado, x='Cluster_7',\n",
    "                       y='%', hue=feature, palette='pastel')\n",
    "\n",
    "    # Adicionar rótulos e título\n",
    "    plot.set_title(\n",
    "        f'Percentual de rotatividade da variável \\'{feature}\\' por CLUSTER\\n', fontsize=15)\n",
    "    plot.set(xlabel='\\nClusters', ylabel='Percentual de rotatividade (%)')\n",
    "    plot.tick_params(axis='both', labelsize=10)\n",
    "\n",
    "    # Adicionar valores sobre as barras\n",
    "    for p in plot.patches:\n",
    "        plot.annotate(f'{p.get_height():.2f}%', (p.get_x() + p.get_width() / 2., p.get_height()),\n",
    "                      ha='center', va='bottom', fontsize=8, color='black', rotation=rotation)\n",
    "\n",
    "    # Removendo os valores do eixo y\n",
    "    plot.set_yticklabels([])\n",
    "\n",
    "    # Formatando grade do gráfico\n",
    "    plt.grid(True, which='both', linestyle='--', linewidth=0.7)\n",
    "\n",
    "    # Adicionando a legenda\n",
    "    plt.legend(loc='best', bbox_to_anchor=(1, 0.5), fontsize='x-small')\n",
    "\n",
    "    # Ajusta o layout para evitar sobreposição\n",
    "    plt.tight_layout()\n",
    "\n",
    "    # Exibindo o gráfico\n",
    "    plt.show()"
   ]
  },
  {
   "cell_type": "code",
   "execution_count": null,
   "metadata": {},
   "outputs": [],
   "source": [
    "graf_countplot_a(df, 'EstadoCivil')"
   ]
  },
  {
   "cell_type": "markdown",
   "metadata": {},
   "source": []
  },
  {
   "cell_type": "code",
   "execution_count": null,
   "metadata": {},
   "outputs": [],
   "source": [
    "graf_countplot_a(df, 'Funcao', rotation=90)"
   ]
  },
  {
   "cell_type": "markdown",
   "metadata": {},
   "source": []
  },
  {
   "cell_type": "code",
   "execution_count": null,
   "metadata": {},
   "outputs": [],
   "source": [
    "graf_countplot_a(df, 'Genero')"
   ]
  },
  {
   "cell_type": "markdown",
   "metadata": {},
   "source": []
  },
  {
   "cell_type": "code",
   "execution_count": null,
   "metadata": {},
   "outputs": [],
   "source": [
    "graf_countplot_a(df, 'Departamento')"
   ]
  },
  {
   "cell_type": "markdown",
   "metadata": {},
   "source": []
  },
  {
   "cell_type": "code",
   "execution_count": null,
   "metadata": {},
   "outputs": [],
   "source": [
    "graf_countplot_a(df, 'ViagensDeNegocio')"
   ]
  },
  {
   "cell_type": "markdown",
   "metadata": {},
   "source": []
  },
  {
   "cell_type": "code",
   "execution_count": null,
   "metadata": {},
   "outputs": [],
   "source": [
    "def graf_countplot_b(dataframe, feature, legend_mapping, rotation=0):\n",
    "    '''\n",
    "    Função para gerar um gráfico countplot.\n",
    "\n",
    "    :param data: DataFrame\n",
    "        DataFrame contendo os dados.\n",
    "    :param feature: str\n",
    "        Nome da variavel a ser plotada.\n",
    "    :param legend_mapping: dic\n",
    "        Dicionário com dados da legenda.\n",
    "    :param rotation: int, opcional\n",
    "        Grau de rotação dos valores das barras do eixo x.       \n",
    "    '''\n",
    "    # Normalizando os dados para cada feature e Cluster_7\n",
    "    df_normalizado = dataframe.groupby(\n",
    "        ['Cluster_7', feature]).size().reset_index(name='contagem')\n",
    "    df_normalizado['%'] = df_normalizado.groupby(\n",
    "        'Cluster_7')['contagem'].apply(lambda x: x / float(x.sum()) * 100).values\n",
    "\n",
    "    # Aplicar o mapeamento de legendas\n",
    "    df_normalizado[feature] = df_normalizado[feature].replace(\n",
    "        legend_mapping.get(feature, {}))\n",
    "\n",
    "    # Criar o gráfico de barras\n",
    "    plt.figure(figsize=(15, 6))\n",
    "    plot = sns.barplot(data=df_normalizado, x='Cluster_7',\n",
    "                       y='%', hue=feature, palette='pastel')\n",
    "\n",
    "    # Adicionar rótulos e título\n",
    "    plot.set_title(\n",
    "        f'Percentual de rotatividade de \\'{feature}\\' por CLUSTER\\n', fontsize=15)\n",
    "    plot.set(xlabel='\\nClusters', ylabel='Percentual de rotatividade (%)')\n",
    "    plot.tick_params(axis='both', labelsize=10)\n",
    "\n",
    "    # Adicionar valores sobre as barras\n",
    "    for p in plot.patches:\n",
    "        plot.annotate(f'{p.get_height():.2f}%', (p.get_x() + p.get_width() / 2., p.get_height()),\n",
    "                      ha='center', va='bottom', fontsize=9, color='black', rotation=rotation)\n",
    "\n",
    "    # Removendo os valores do eixo y\n",
    "    plot.set_yticklabels([])\n",
    "\n",
    "    # Formatando grade do gráfico\n",
    "    plt.grid(True, which='both', linestyle='--', linewidth=0.7)\n",
    "\n",
    "    # Adicionando a legenda\n",
    "    plt.legend(loc='best', bbox_to_anchor=(1, 0.5), fontsize='small')\n",
    "\n",
    "    # Ajusta o layout para evitar sobreposição\n",
    "    plt.tight_layout()\n",
    "\n",
    "    # Exibindo o gráfico\n",
    "    plt.show()"
   ]
  },
  {
   "cell_type": "code",
   "execution_count": null,
   "metadata": {},
   "outputs": [],
   "source": [
    "legendas = {'EnvolvimentoNoTrabalho': {\n",
    "    1: 'baixo', 2: 'médio', 3: 'alto', 4: 'muito alto'}}\n",
    "graf_countplot_b(df, 'EnvolvimentoNoTrabalho', legendas)"
   ]
  },
  {
   "cell_type": "markdown",
   "metadata": {},
   "source": []
  },
  {
   "cell_type": "code",
   "execution_count": null,
   "metadata": {},
   "outputs": [],
   "source": [
    "legendas = {'EquilibrioTrabalhoVida': {\n",
    "    1: 'ruim', 2: 'bom', 3: 'melhor', 4: 'ótimo'}}\n",
    "graf_countplot_b(df, 'EquilibrioTrabalhoVida', legendas)"
   ]
  },
  {
   "cell_type": "markdown",
   "metadata": {},
   "source": []
  },
  {
   "cell_type": "code",
   "execution_count": null,
   "metadata": {},
   "outputs": [],
   "source": [
    "legendas = {'SatisfacaoNoTrabalho': {\n",
    "    1: 'baixo', 2: 'médio', 3: 'alto', 4: 'muito alto'}}\n",
    "graf_countplot_b(df, 'SatisfacaoNoTrabalho', legendas)"
   ]
  },
  {
   "cell_type": "markdown",
   "metadata": {},
   "source": []
  },
  {
   "cell_type": "code",
   "execution_count": null,
   "metadata": {},
   "outputs": [],
   "source": [
    "legendas = {'SatisfacaoComAmbiente': {\n",
    "    1: 'baixo', 2: 'médio', 3: 'alto', 4: 'muito alto'}}\n",
    "graf_countplot_b(df, 'SatisfacaoComAmbiente', legendas)"
   ]
  },
  {
   "cell_type": "markdown",
   "metadata": {},
   "source": []
  },
  {
   "cell_type": "code",
   "execution_count": null,
   "metadata": {},
   "outputs": [],
   "source": [
    "legendas = {'Educacao': {1: 'abaixo do ensino superior',\n",
    "                         2: 'ensino superior incompleto', 3: 'bacharel', 4: 'mestre', 5: 'doutor'}}\n",
    "graf_countplot_b(df, 'Educacao', legendas)"
   ]
  },
  {
   "cell_type": "markdown",
   "metadata": {},
   "source": []
  },
  {
   "cell_type": "code",
   "execution_count": null,
   "metadata": {},
   "outputs": [],
   "source": [
    "legendas = {'AvaliacaoDeDesempenho': {1: 'baixo', 2: 'bom', 3: 'excelente', 4: 'excepcional'}}\n",
    "graf_countplot_b(df, 'AvaliacaoDeDesempenho', legendas)"
   ]
  },
  {
   "cell_type": "markdown",
   "metadata": {},
   "source": []
  },
  {
   "cell_type": "code",
   "execution_count": null,
   "metadata": {},
   "outputs": [],
   "source": [
    "def faixa_para_str(intervalo):\n",
    "    '''\n",
    "    Função para converter intervalos de faixas de valores para strings\n",
    "\n",
    "    :param intervalo: [n, n)\n",
    "        Notação de elementos [n, n).     \n",
    "    '''\n",
    "    return f'{intervalo.left} - {intervalo.right - 1}'\n",
    "\n",
    "\n",
    "# Criar um DataFrame base contendo apenas as colunas 'Cluster_7' e 'TARGET'\n",
    "df_base = df[['Cluster_7', 'TARGET']].copy()\n",
    "\n",
    "\n",
    "def graf_countplot_c(dataframe, range_name, range, rotation=90):\n",
    "    '''\n",
    "    Função para gerar um gráfico countplot.\n",
    "\n",
    "    :param data: DataFrame\n",
    "        DataFrame contendo os dados.\n",
    "    :param range_name: str\n",
    "        Nome do intervalo de dados ser plotado.\n",
    "    :param range: str\n",
    "        Dicionário com dados da legenda.\n",
    "    :param rotation: int, opcional\n",
    "        Grau de rotação dos valores das barras do eixo x.       \n",
    "    '''\n",
    "    # Adicionar a série categorizada ao DataFrame base para o gráfico\n",
    "    dataframe[range_name] = range.values\n",
    "\n",
    "    # Calcular os percentuais dentro de cada cluster\n",
    "    df_normalizado = df_base.groupby(\n",
    "        ['Cluster_7', range_name]).size().reset_index(name='contagem')\n",
    "    total_por_cluster = df_normalizado.groupby(\n",
    "        'Cluster_7')['contagem'].sum().reset_index(name='total')\n",
    "    df_mesclado = pd.merge(df_normalizado, total_por_cluster, on='Cluster_7')\n",
    "    df_mesclado['%'] = df_mesclado['contagem'] / df_mesclado['total'] * 100\n",
    "\n",
    "    # Criar o gráfico de barras categórico\n",
    "    g = sns.catplot(\n",
    "        data=df_mesclado,\n",
    "        x='Cluster_7',\n",
    "        y='%',\n",
    "        hue=range_name,\n",
    "        kind='bar',\n",
    "        height=6,\n",
    "        aspect=1.5,\n",
    "        palette='pastel',\n",
    "        legend=False,\n",
    "        errorbar=None,\n",
    "    )\n",
    "\n",
    "    # Definir o tamanho da figura\n",
    "    g.fig.set_size_inches(15, 6)\n",
    "\n",
    "    # Adicionar título e rótulos\n",
    "    g.fig.suptitle(\n",
    "        f'Percentual de rotatividade de \\'{range_name}\\' por CLUSTER\\n', fontsize=15)\n",
    "    g.set_axis_labels('\\nCluster', 'Percentual de rotatividade (%)')\n",
    "\n",
    "    # Adicionar valores sobre as barras\n",
    "    for ax in g.axes.flat:\n",
    "        for p in ax.patches:\n",
    "            ax.annotate(f'{p.get_height():.2f}%',\n",
    "                        (p.get_x() + p.get_width() / 2., p.get_height()),\n",
    "                        ha='center', va='bottom', fontsize=9, color='black', rotation=rotation)\n",
    "\n",
    "    # Remover a série categorizada após plotar o gráfico para não manter colunas desnecessárias\n",
    "    df_base.drop(columns=[range_name], inplace=True)\n",
    "\n",
    "    # Remover os valores do eixo y\n",
    "    for ax in g.axes.flat:\n",
    "        ax.set_yticklabels([])\n",
    "\n",
    "    # Formatando grade do gráfico\n",
    "    for ax in g.axes.flat:\n",
    "        ax.grid(True, which='both', linestyle='--', linewidth=0.7)\n",
    "\n",
    "    # Ajustar o layout para evitar sobreposição\n",
    "    plt.tight_layout()\n",
    "\n",
    "    # Exibir a legenda separadamente e ajustar sua posição\n",
    "    g.add_legend(title=range_name)\n",
    "    g.legend.set_bbox_to_anchor((1, 0.5))\n",
    "\n",
    "    # Exibindo o gráfico\n",
    "    plt.show()"
   ]
  },
  {
   "cell_type": "code",
   "execution_count": null,
   "metadata": {},
   "outputs": [],
   "source": [
    "faixa_etaria = pd.cut(df['Idade'], bins=range(\n",
    "    18, 64, 5), right=False).map(faixa_para_str)\n",
    "graf_countplot_c(df_base, 'Faixa Etária', faixa_etaria)"
   ]
  },
  {
   "cell_type": "markdown",
   "metadata": {},
   "source": []
  },
  {
   "cell_type": "code",
   "execution_count": null,
   "metadata": {},
   "outputs": [],
   "source": [
    "anos_de_empresa = pd.cut(df['AnosNaEmpresa'], bins=range(\n",
    "    0, 50, 5), right=False).map(faixa_para_str)\n",
    "graf_countplot_c(df_base, 'Anos de Empresa', anos_de_empresa)"
   ]
  },
  {
   "cell_type": "markdown",
   "metadata": {},
   "source": []
  },
  {
   "cell_type": "code",
   "execution_count": null,
   "metadata": {},
   "outputs": [],
   "source": [
    "aumento_percentual_salario = pd.cut(df['AumentoPercentualSalario'], bins=range(\n",
    "    11, 28, 4), right=False).map(faixa_para_str)\n",
    "graf_countplot_c(df_base, 'Aumento Percentual de Salário',\n",
    "                 aumento_percentual_salario)"
   ]
  },
  {
   "cell_type": "markdown",
   "metadata": {},
   "source": []
  },
  {
   "cell_type": "code",
   "execution_count": null,
   "metadata": {},
   "outputs": [],
   "source": [
    "numero_empresas = pd.cut(df['NumeroDeEmpresas'], bins=range(\n",
    "    0, 14, 4), right=False).map(faixa_para_str)\n",
    "graf_countplot_c(df_base, 'Número de Empresas', numero_empresas)"
   ]
  },
  {
   "cell_type": "markdown",
   "metadata": {},
   "source": []
  },
  {
   "cell_type": "code",
   "execution_count": null,
   "metadata": {},
   "outputs": [],
   "source": [
    "renda_mensal = pd.cut(df['RendaMensal'], bins=10,\n",
    "                      right=False).map(faixa_para_str)\n",
    "graf_countplot_c(df_base, 'Renda Mensal', renda_mensal)"
   ]
  },
  {
   "cell_type": "markdown",
   "metadata": {},
   "source": []
  },
  {
   "cell_type": "code",
   "execution_count": null,
   "metadata": {},
   "outputs": [],
   "source": [
    "distancia_de_casa = pd.cut(df['DistanciaDeCasa'], bins=range(\n",
    "    1, 32, 3), right=False).map(faixa_para_str)\n",
    "graf_countplot_c(df_base, 'Distância de Casa', distancia_de_casa)"
   ]
  },
  {
   "cell_type": "markdown",
   "metadata": {},
   "source": []
  },
  {
   "cell_type": "code",
   "execution_count": null,
   "metadata": {},
   "outputs": [],
   "source": [
    "def faixa_para_str(intervalo):\n",
    "    '''\n",
    "    Função para converter intervalos de faixas de valores para strings\n",
    "\n",
    "    :param intervalo: [n, n)\n",
    "        Notação de elementos [n, n).     \n",
    "    '''\n",
    "    return f'{intervalo.left} - {intervalo.right - 1}'\n",
    "\n",
    "# Definindo as faixas de valores\n",
    "faixas_etarias = pd.cut(df['Idade'], bins=range(18, 64, 5), right=False).map(faixa_para_str)\n",
    "#anos_atual_gestor = pd.cut(df['AnosComAtualGestor'], bins=range(0, 20, 6), right=False).map(faixa_para_str)\n",
    "#anos_ultima_promocao = pd.cut(df['AnosDesdeUltimaPromocao'], bins=range(0, 18, 4), right=False).map(faixa_para_str)\n",
    "anos_de_empresa = pd.cut(df['AnosNaEmpresa'], bins=range(0, 50, 5), right=False).map(faixa_para_str)\n",
    "#total_anos_trabalhados = pd.cut(df['TotalDeAnosTrabalhados'], bins=range(0, 50, 5), right=False).map(faixa_para_str)\n",
    "aumento_percentual_salario = pd.cut(df['AumentoPercentualSalario'], bins=range(11, 28, 4), right=False).map(faixa_para_str)\n",
    "numero_empresas = pd.cut(df['NumeroDeEmpresas'], bins=range(0, 14, 4), right=False).map(faixa_para_str)\n",
    "renda_mensal = pd.cut(df['RendaMensal'], bins=10, right=False).map(faixa_para_str)\n",
    "distancia_de_casa = pd.cut(df['DistanciaDeCasa'], bins=range(1, 32, 3), right=False).map(faixa_para_str)\n",
    "\n",
    "# Lista de variáveis e nomes (títulos)\n",
    "faixas = [\n",
    "    ('Faixa Etária', faixas_etarias),\n",
    "    #('Anos com Atual Gestor', anos_atual_gestor),\n",
    "    #('Anos desde Última Promoção', anos_ultima_promocao),\n",
    "    ('Anos de Empresa', anos_de_empresa),\n",
    "    #('Total de Anos Trabalhados', total_anos_trabalhados),\n",
    "    ('Aumento Percentual de Salário', aumento_percentual_salario),\n",
    "    ('Número de Empresas', numero_empresas),\n",
    "    ('Renda Mensal', renda_mensal),\n",
    "    ('Distância de Casa', distancia_de_casa)\n",
    "]\n",
    "\n",
    "# Criar um DataFrame base contendo apenas as colunas 'Cluster_7' e 'TARGET'\n",
    "df_base = df[['Cluster_7', 'TARGET']].copy()\n",
    "\n",
    "for nome_faixa, faixa in faixas:\n",
    "    # Adicionar a série categorizada ao DataFrame base para o gráfico\n",
    "    df_base[nome_faixa] = faixa.values\n",
    "    \n",
    "    # Calcular os percentuais dentro de cada cluster\n",
    "    df_normalizado = df_base.groupby(['Cluster_7', nome_faixa]).size().reset_index(name='contagem')\n",
    "    total_por_cluster = df_normalizado.groupby('Cluster_7')['contagem'].sum().reset_index(name='total')\n",
    "    df_mesclado = pd.merge(df_normalizado, total_por_cluster, on='Cluster_7')\n",
    "    df_mesclado['%'] = df_mesclado['contagem'] / df_mesclado['total'] * 100\n",
    "\n",
    "    # Criar o gráfico de barras categórico\n",
    "    g = sns.catplot(\n",
    "        data=df_mesclado, \n",
    "        x='Cluster_7', \n",
    "        y='%', \n",
    "        hue=nome_faixa, \n",
    "        kind='bar', \n",
    "        height=6, \n",
    "        aspect=1.5,\n",
    "        palette='pastel',\n",
    "        legend=False,\n",
    "        errorbar=None,\n",
    "    )\n",
    "    \n",
    "    # Definir o tamanho da figura\n",
    "    g.fig.set_size_inches(15, 6)    \n",
    "    \n",
    "    # Adicionar título e rótulos\n",
    "    g.fig.suptitle(f'Percentual de rotatividade de \\'{nome_faixa}\\' por CLUSTER\\n', fontsize=15)\n",
    "    g.set_axis_labels('\\nCluster', 'Percentual de rotatividade (%)')\n",
    "    \n",
    "    # Adicionar valores sobre as barras\n",
    "    for ax in g.axes.flat:\n",
    "        for p in ax.patches:\n",
    "            ax.annotate(f'{p.get_height():.2f}%', \n",
    "                        (p.get_x() + p.get_width() / 2., p.get_height()),\n",
    "                        ha='center', va='bottom', fontsize=9, color='black', rotation=90)\n",
    "    \n",
    "    # Remover a série categorizada após plotar o gráfico para não manter colunas desnecessárias\n",
    "    df_base.drop(columns=[nome_faixa], inplace=True)\n",
    "    \n",
    "    # Remover os valores do eixo y\n",
    "    for ax in g.axes.flat:\n",
    "        ax.set_yticklabels([])\n",
    "    \n",
    "    # Formatando grade do gráfico\n",
    "    for ax in g.axes.flat:\n",
    "        ax.grid(True, which='both', linestyle='--', linewidth=0.7)\n",
    "    \n",
    "    # Ajustar o layout para evitar sobreposição\n",
    "    plt.tight_layout()\n",
    "    \n",
    "    # Exibir a legenda separadamente e ajustar sua posição\n",
    "    g.add_legend(title=nome_faixa)\n",
    "    g.legend.set_bbox_to_anchor((1, 0.5))\n",
    "\n",
    "    # Exibindo o gráfico\n",
    "    plt.show()\n"
   ]
  },
  {
   "cell_type": "markdown",
   "metadata": {},
   "source": [
    "<div style=\"text-align: right\">\n",
    "<h1>つづく...</h1>\n",
    "<h2>continua...</h2>\n",
    "</div>"
   ]
  }
 ],
 "metadata": {
  "kernelspec": {
   "display_name": "Python 3 (ipykernel)",
   "language": "python",
   "name": "python3"
  },
  "language_info": {
   "codemirror_mode": {
    "name": "ipython",
    "version": 3
   },
   "file_extension": ".py",
   "mimetype": "text/x-python",
   "name": "python",
   "nbconvert_exporter": "python",
   "pygments_lexer": "ipython3",
   "version": "3.11.9"
  }
 },
 "nbformat": 4,
 "nbformat_minor": 4
}
